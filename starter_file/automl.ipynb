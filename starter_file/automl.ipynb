{
  "cells": [
    {
      "cell_type": "markdown",
      "source": [
        "# Automated ML\n",
        "\n",
        "TODO: Import Dependencies. In the cell below, import all the dependencies that you will need to complete the project."
      ],
      "metadata": {}
    },
    {
      "cell_type": "code",
      "source": [
        "import logging\n",
        "import os\n",
        "import csv\n",
        "\n",
        "from matplotlib import pyplot as plt\n",
        "import numpy as np\n",
        "import pandas as pd\n",
        "from sklearn import datasets\n",
        "import pkg_resources\n",
        "\n",
        "import azureml.core\n",
        "from azureml.core.experiment import Experiment\n",
        "from azureml.core.workspace import Workspace\n",
        "from azureml.train.automl import AutoMLConfig\n",
        "from azureml.core.dataset import Dataset\n",
        "\n",
        "from azureml.pipeline.steps import AutoMLStep\n",
        "\n",
        "# Check core SDK version number\n",
        "print(\"SDK version:\", azureml.core.VERSION)"
      ],
      "outputs": [
        {
          "output_type": "stream",
          "name": "stdout",
          "text": "SDK version: 1.47.0\n"
        }
      ],
      "execution_count": 1,
      "metadata": {
        "jupyter": {
          "source_hidden": false,
          "outputs_hidden": false
        },
        "nteract": {
          "transient": {
            "deleting": false
          }
        },
        "gather": {
          "logged": 1675495878990
        }
      }
    },
    {
      "cell_type": "code",
      "source": [
        "from azureml.core import Workspace, Experiment\r\n",
        "\r\n",
        "ws = Workspace.from_config()\r\n",
        "\r\n",
        "# choose a name for experiment\r\n",
        "experiment_name = 'automl-capstone-project'\r\n",
        "project_folder = './automlpipeline'\r\n",
        "\r\n",
        "experiment=Experiment(ws, experiment_name)\r\n",
        "\r\n",
        "run = experiment.start_logging()\r\n",
        "\r\n",
        "print('Workspace name: ' + ws.name, \r\n",
        "      'Azure region: ' + ws.location, \r\n",
        "      'Subscription id: ' + ws.subscription_id, \r\n",
        "      'Resource group: ' + ws.resource_group, sep = '\\n')"
      ],
      "outputs": [
        {
          "output_type": "stream",
          "name": "stdout",
          "text": "Workspace name: UMRAIMLND\nAzure region: centralus\nSubscription id: b1d4fcba-3863-40a9-84b1-4b0f82fd16cc\nResource group: rg-UMRDataExternalization-dev\n"
        }
      ],
      "execution_count": 2,
      "metadata": {
        "gather": {
          "logged": 1675495885843
        },
        "jupyter": {
          "outputs_hidden": false,
          "source_hidden": false
        },
        "nteract": {
          "transient": {
            "deleting": false
          }
        }
      }
    },
    {
      "cell_type": "markdown",
      "source": [
        "## Dataset\n",
        "\n",
        "### Overview\n",
        "TODO: In this markdown cell, give an overview of the dataset you are using. Also mention the task you will be performing.\n",
        "\n",
        "\n",
        "TODO: Get data. In the cell below, write code to access the data you will be using in this project. Remember that the dataset needs to be external."
      ],
      "metadata": {}
    },
    {
      "cell_type": "code",
      "source": [
        "from azureml.core import Workspace\r\n",
        "from azureml.core.compute import AmlCompute, ComputeTarget\r\n",
        "from azureml.core.compute_target import ComputeTargetException\r\n",
        "CLUSTER_NAME = \"auto-ml\"\r\n",
        "# retrieve existing cluster or create a new one\r\n",
        "try:\r\n",
        "    compute_target = ComputeTarget(workspace=ws, name=CLUSTER_NAME)\r\n",
        "    print(\"Found existing cluster\")\r\n",
        "except ComputeTargetException:\r\n",
        "    compute_config = AmlCompute.provisioning_configuration(\r\n",
        "        vm_size=\"STANDARD_DS12_V2\", max_nodes=4\r\n",
        "    )\r\n",
        "    compute_target = ComputeTarget.create(ws, CLUSTER_NAME, compute_config)\r\n",
        "compute_target.wait_for_completion(show_output=True)"
      ],
      "outputs": [
        {
          "output_type": "stream",
          "name": "stdout",
          "text": "Found existing cluster\nSucceeded\nAmlCompute wait for completion finished\n\nMinimum number of nodes requested have been provisioned\n"
        }
      ],
      "execution_count": 3,
      "metadata": {
        "jupyter": {
          "source_hidden": false,
          "outputs_hidden": false
        },
        "nteract": {
          "transient": {
            "deleting": false
          }
        },
        "gather": {
          "logged": 1675495888521
        }
      }
    },
    {
      "cell_type": "code",
      "source": [
        "from azureml.data.dataset_factory import TabularDatasetFactory\r\n",
        "import pandas as pd\r\n",
        "\r\n",
        "# azureml-core of version 1.0.72 or higher is required\r\n",
        "# azureml-dataprep[pandas] of version 1.1.34 or higher is required\r\n",
        "from azureml.data.dataset_factory import TabularDatasetFactory\r\n",
        "ds = TabularDatasetFactory.from_delimited_files(['https://raw.githubusercontent.com/sireeshag09/udacity-capstone/main/heart.csv'])\r\n",
        "ds.to_pandas_dataframe()"
      ],
      "outputs": [
        {
          "output_type": "execute_result",
          "execution_count": 10,
          "data": {
            "text/plain": "     Age Sex ChestPainType  RestingBP  Cholesterol  FastingBS RestingECG  \\\n0     40   M           ATA        140          289          0     Normal   \n1     49   F           NAP        160          180          0     Normal   \n2     37   M           ATA        130          283          0         ST   \n3     48   F           ASY        138          214          0     Normal   \n4     54   M           NAP        150          195          0     Normal   \n..   ...  ..           ...        ...          ...        ...        ...   \n913   45   M            TA        110          264          0     Normal   \n914   68   M           ASY        144          193          1     Normal   \n915   57   M           ASY        130          131          0     Normal   \n916   57   F           ATA        130          236          0        LVH   \n917   38   M           NAP        138          175          0     Normal   \n\n     MaxHR  ExerciseAngina  Oldpeak ST_Slope  HeartDisease  \n0      172           False      0.0       Up             0  \n1      156           False      1.0     Flat             1  \n2       98           False      0.0       Up             0  \n3      108            True      1.5     Flat             1  \n4      122           False      0.0       Up             0  \n..     ...             ...      ...      ...           ...  \n913    132           False      1.2     Flat             1  \n914    141           False      3.4     Flat             1  \n915    115            True      1.2     Flat             1  \n916    174           False      0.0     Flat             1  \n917    173           False      0.0       Up             0  \n\n[918 rows x 12 columns]",
            "text/html": "<div>\n<style scoped>\n    .dataframe tbody tr th:only-of-type {\n        vertical-align: middle;\n    }\n\n    .dataframe tbody tr th {\n        vertical-align: top;\n    }\n\n    .dataframe thead th {\n        text-align: right;\n    }\n</style>\n<table border=\"1\" class=\"dataframe\">\n  <thead>\n    <tr style=\"text-align: right;\">\n      <th></th>\n      <th>Age</th>\n      <th>Sex</th>\n      <th>ChestPainType</th>\n      <th>RestingBP</th>\n      <th>Cholesterol</th>\n      <th>FastingBS</th>\n      <th>RestingECG</th>\n      <th>MaxHR</th>\n      <th>ExerciseAngina</th>\n      <th>Oldpeak</th>\n      <th>ST_Slope</th>\n      <th>HeartDisease</th>\n    </tr>\n  </thead>\n  <tbody>\n    <tr>\n      <th>0</th>\n      <td>40</td>\n      <td>M</td>\n      <td>ATA</td>\n      <td>140</td>\n      <td>289</td>\n      <td>0</td>\n      <td>Normal</td>\n      <td>172</td>\n      <td>False</td>\n      <td>0.0</td>\n      <td>Up</td>\n      <td>0</td>\n    </tr>\n    <tr>\n      <th>1</th>\n      <td>49</td>\n      <td>F</td>\n      <td>NAP</td>\n      <td>160</td>\n      <td>180</td>\n      <td>0</td>\n      <td>Normal</td>\n      <td>156</td>\n      <td>False</td>\n      <td>1.0</td>\n      <td>Flat</td>\n      <td>1</td>\n    </tr>\n    <tr>\n      <th>2</th>\n      <td>37</td>\n      <td>M</td>\n      <td>ATA</td>\n      <td>130</td>\n      <td>283</td>\n      <td>0</td>\n      <td>ST</td>\n      <td>98</td>\n      <td>False</td>\n      <td>0.0</td>\n      <td>Up</td>\n      <td>0</td>\n    </tr>\n    <tr>\n      <th>3</th>\n      <td>48</td>\n      <td>F</td>\n      <td>ASY</td>\n      <td>138</td>\n      <td>214</td>\n      <td>0</td>\n      <td>Normal</td>\n      <td>108</td>\n      <td>True</td>\n      <td>1.5</td>\n      <td>Flat</td>\n      <td>1</td>\n    </tr>\n    <tr>\n      <th>4</th>\n      <td>54</td>\n      <td>M</td>\n      <td>NAP</td>\n      <td>150</td>\n      <td>195</td>\n      <td>0</td>\n      <td>Normal</td>\n      <td>122</td>\n      <td>False</td>\n      <td>0.0</td>\n      <td>Up</td>\n      <td>0</td>\n    </tr>\n    <tr>\n      <th>...</th>\n      <td>...</td>\n      <td>...</td>\n      <td>...</td>\n      <td>...</td>\n      <td>...</td>\n      <td>...</td>\n      <td>...</td>\n      <td>...</td>\n      <td>...</td>\n      <td>...</td>\n      <td>...</td>\n      <td>...</td>\n    </tr>\n    <tr>\n      <th>913</th>\n      <td>45</td>\n      <td>M</td>\n      <td>TA</td>\n      <td>110</td>\n      <td>264</td>\n      <td>0</td>\n      <td>Normal</td>\n      <td>132</td>\n      <td>False</td>\n      <td>1.2</td>\n      <td>Flat</td>\n      <td>1</td>\n    </tr>\n    <tr>\n      <th>914</th>\n      <td>68</td>\n      <td>M</td>\n      <td>ASY</td>\n      <td>144</td>\n      <td>193</td>\n      <td>1</td>\n      <td>Normal</td>\n      <td>141</td>\n      <td>False</td>\n      <td>3.4</td>\n      <td>Flat</td>\n      <td>1</td>\n    </tr>\n    <tr>\n      <th>915</th>\n      <td>57</td>\n      <td>M</td>\n      <td>ASY</td>\n      <td>130</td>\n      <td>131</td>\n      <td>0</td>\n      <td>Normal</td>\n      <td>115</td>\n      <td>True</td>\n      <td>1.2</td>\n      <td>Flat</td>\n      <td>1</td>\n    </tr>\n    <tr>\n      <th>916</th>\n      <td>57</td>\n      <td>F</td>\n      <td>ATA</td>\n      <td>130</td>\n      <td>236</td>\n      <td>0</td>\n      <td>LVH</td>\n      <td>174</td>\n      <td>False</td>\n      <td>0.0</td>\n      <td>Flat</td>\n      <td>1</td>\n    </tr>\n    <tr>\n      <th>917</th>\n      <td>38</td>\n      <td>M</td>\n      <td>NAP</td>\n      <td>138</td>\n      <td>175</td>\n      <td>0</td>\n      <td>Normal</td>\n      <td>173</td>\n      <td>False</td>\n      <td>0.0</td>\n      <td>Up</td>\n      <td>0</td>\n    </tr>\n  </tbody>\n</table>\n<p>918 rows × 12 columns</p>\n</div>"
          },
          "metadata": {}
        }
      ],
      "execution_count": 10,
      "metadata": {
        "jupyter": {
          "source_hidden": false,
          "outputs_hidden": false
        },
        "nteract": {
          "transient": {
            "deleting": false
          }
        },
        "gather": {
          "logged": 1675496552976
        }
      }
    },
    {
      "cell_type": "code",
      "source": [
        "df.shape"
      ],
      "outputs": [
        {
          "output_type": "execute_result",
          "execution_count": 35,
          "data": {
            "text/plain": "(918, 12)"
          },
          "metadata": {}
        }
      ],
      "execution_count": 35,
      "metadata": {
        "jupyter": {
          "source_hidden": false,
          "outputs_hidden": false
        },
        "nteract": {
          "transient": {
            "deleting": false
          }
        },
        "gather": {
          "logged": 1675501786634
        }
      }
    },
    {
      "cell_type": "code",
      "source": [
        "df.dtypes"
      ],
      "outputs": [
        {
          "output_type": "execute_result",
          "execution_count": 13,
          "data": {
            "text/plain": "Age                 int64\nSex                object\nChestPainType      object\nRestingBP           int64\nCholesterol         int64\nFastingBS           int64\nRestingECG         object\nMaxHR               int64\nExerciseAngina       bool\nOldpeak           float64\nST_Slope           object\nHeartDisease        int64\ndtype: object"
          },
          "metadata": {}
        }
      ],
      "execution_count": 13,
      "metadata": {
        "jupyter": {
          "source_hidden": false,
          "outputs_hidden": false
        },
        "nteract": {
          "transient": {
            "deleting": false
          }
        },
        "gather": {
          "logged": 1675496573501
        }
      }
    },
    {
      "cell_type": "code",
      "source": [
        "from train import clean_data\n",
        "# Use the clean_data function to clean your data.\n",
        "x, y = clean_data(ds)"
      ],
      "outputs": [],
      "execution_count": 14,
      "metadata": {
        "jupyter": {
          "source_hidden": false,
          "outputs_hidden": false
        },
        "nteract": {
          "transient": {
            "deleting": false
          }
        },
        "gather": {
          "logged": 1675496615867
        }
      }
    },
    {
      "cell_type": "code",
      "source": [
        "x"
      ],
      "outputs": [
        {
          "output_type": "execute_result",
          "execution_count": 18,
          "data": {
            "text/plain": "     Age  Sex  ChestPainType  RestingBP  Cholesterol  FastingBS  RestingECG  \\\n0     40    1              1        140          289          0           1   \n1     49    0              2        160          180          0           1   \n2     37    1              1        130          283          0           2   \n3     48    0              0        138          214          0           1   \n4     54    1              2        150          195          0           1   \n..   ...  ...            ...        ...          ...        ...         ...   \n913   45    1              3        110          264          0           1   \n914   68    1              0        144          193          1           1   \n915   57    1              0        130          131          0           1   \n916   57    0              1        130          236          0           0   \n917   38    1              2        138          175          0           1   \n\n     MaxHR  ExerciseAngina  Oldpeak  ST_Slope  \n0      172               0      0.0         2  \n1      156               0      1.0         1  \n2       98               0      0.0         2  \n3      108               1      1.5         1  \n4      122               0      0.0         2  \n..     ...             ...      ...       ...  \n913    132               0      1.2         1  \n914    141               0      3.4         1  \n915    115               1      1.2         1  \n916    174               0      0.0         1  \n917    173               0      0.0         2  \n\n[918 rows x 11 columns]",
            "text/html": "<div>\n<style scoped>\n    .dataframe tbody tr th:only-of-type {\n        vertical-align: middle;\n    }\n\n    .dataframe tbody tr th {\n        vertical-align: top;\n    }\n\n    .dataframe thead th {\n        text-align: right;\n    }\n</style>\n<table border=\"1\" class=\"dataframe\">\n  <thead>\n    <tr style=\"text-align: right;\">\n      <th></th>\n      <th>Age</th>\n      <th>Sex</th>\n      <th>ChestPainType</th>\n      <th>RestingBP</th>\n      <th>Cholesterol</th>\n      <th>FastingBS</th>\n      <th>RestingECG</th>\n      <th>MaxHR</th>\n      <th>ExerciseAngina</th>\n      <th>Oldpeak</th>\n      <th>ST_Slope</th>\n    </tr>\n  </thead>\n  <tbody>\n    <tr>\n      <th>0</th>\n      <td>40</td>\n      <td>1</td>\n      <td>1</td>\n      <td>140</td>\n      <td>289</td>\n      <td>0</td>\n      <td>1</td>\n      <td>172</td>\n      <td>0</td>\n      <td>0.0</td>\n      <td>2</td>\n    </tr>\n    <tr>\n      <th>1</th>\n      <td>49</td>\n      <td>0</td>\n      <td>2</td>\n      <td>160</td>\n      <td>180</td>\n      <td>0</td>\n      <td>1</td>\n      <td>156</td>\n      <td>0</td>\n      <td>1.0</td>\n      <td>1</td>\n    </tr>\n    <tr>\n      <th>2</th>\n      <td>37</td>\n      <td>1</td>\n      <td>1</td>\n      <td>130</td>\n      <td>283</td>\n      <td>0</td>\n      <td>2</td>\n      <td>98</td>\n      <td>0</td>\n      <td>0.0</td>\n      <td>2</td>\n    </tr>\n    <tr>\n      <th>3</th>\n      <td>48</td>\n      <td>0</td>\n      <td>0</td>\n      <td>138</td>\n      <td>214</td>\n      <td>0</td>\n      <td>1</td>\n      <td>108</td>\n      <td>1</td>\n      <td>1.5</td>\n      <td>1</td>\n    </tr>\n    <tr>\n      <th>4</th>\n      <td>54</td>\n      <td>1</td>\n      <td>2</td>\n      <td>150</td>\n      <td>195</td>\n      <td>0</td>\n      <td>1</td>\n      <td>122</td>\n      <td>0</td>\n      <td>0.0</td>\n      <td>2</td>\n    </tr>\n    <tr>\n      <th>...</th>\n      <td>...</td>\n      <td>...</td>\n      <td>...</td>\n      <td>...</td>\n      <td>...</td>\n      <td>...</td>\n      <td>...</td>\n      <td>...</td>\n      <td>...</td>\n      <td>...</td>\n      <td>...</td>\n    </tr>\n    <tr>\n      <th>913</th>\n      <td>45</td>\n      <td>1</td>\n      <td>3</td>\n      <td>110</td>\n      <td>264</td>\n      <td>0</td>\n      <td>1</td>\n      <td>132</td>\n      <td>0</td>\n      <td>1.2</td>\n      <td>1</td>\n    </tr>\n    <tr>\n      <th>914</th>\n      <td>68</td>\n      <td>1</td>\n      <td>0</td>\n      <td>144</td>\n      <td>193</td>\n      <td>1</td>\n      <td>1</td>\n      <td>141</td>\n      <td>0</td>\n      <td>3.4</td>\n      <td>1</td>\n    </tr>\n    <tr>\n      <th>915</th>\n      <td>57</td>\n      <td>1</td>\n      <td>0</td>\n      <td>130</td>\n      <td>131</td>\n      <td>0</td>\n      <td>1</td>\n      <td>115</td>\n      <td>1</td>\n      <td>1.2</td>\n      <td>1</td>\n    </tr>\n    <tr>\n      <th>916</th>\n      <td>57</td>\n      <td>0</td>\n      <td>1</td>\n      <td>130</td>\n      <td>236</td>\n      <td>0</td>\n      <td>0</td>\n      <td>174</td>\n      <td>0</td>\n      <td>0.0</td>\n      <td>1</td>\n    </tr>\n    <tr>\n      <th>917</th>\n      <td>38</td>\n      <td>1</td>\n      <td>2</td>\n      <td>138</td>\n      <td>175</td>\n      <td>0</td>\n      <td>1</td>\n      <td>173</td>\n      <td>0</td>\n      <td>0.0</td>\n      <td>2</td>\n    </tr>\n  </tbody>\n</table>\n<p>918 rows × 11 columns</p>\n</div>"
          },
          "metadata": {}
        }
      ],
      "execution_count": 18,
      "metadata": {
        "jupyter": {
          "source_hidden": false,
          "outputs_hidden": false
        },
        "nteract": {
          "transient": {
            "deleting": false
          }
        },
        "gather": {
          "logged": 1675496707953
        }
      }
    },
    {
      "cell_type": "markdown",
      "source": [
        "## AutoML Configuration\n",
        "\n",
        "TODO: Explain why you chose the automl settings and cofiguration you used below."
      ],
      "metadata": {}
    },
    {
      "cell_type": "code",
      "source": [
        "# TODO: Put your automl settings here\n",
        "import logging\n",
        "\n",
        "automl_settings = {\n",
        "    \"iteration_timeout_minutes\": 20,\n",
        "    \"experiment_timeout_minutes\": 20,\n",
        "    \"max_concurrent_iterations\": 5,\n",
        "    \"verbosity\": logging.INFO,\n",
        "    \"primary_metric\" : 'accuracy'\n",
        "}\n",
        "\n",
        "# TODO: Put your automl config here\n",
        "\n",
        "from azureml.train.automl import AutoMLConfig\n",
        "\n",
        "automl_config = AutoMLConfig(compute_target=compute_target,\n",
        "                             task = \"classification\",\n",
        "                             training_data= ds,\n",
        "                             label_column_name=\"HeartDisease\",   \n",
        "                             path = project_folder,\n",
        "                             enable_early_stopping= True,\n",
        "                             featurization= 'auto',\n",
        "                             debug_log = \"automl_errors.log\",\n",
        "                             **automl_settings\n",
        "                            )"
      ],
      "outputs": [],
      "execution_count": 20,
      "metadata": {
        "jupyter": {
          "source_hidden": false,
          "outputs_hidden": false
        },
        "nteract": {
          "transient": {
            "deleting": false
          }
        },
        "gather": {
          "logged": 1675496887610
        }
      }
    },
    {
      "cell_type": "code",
      "source": [
        "# TODO: Submit your experiment\n",
        "from azureml.core import Workspace, Experiment\n",
        "ws = Workspace.from_config()\n",
        "automl_experiment = Experiment(ws,'automl-capstone-project')\n",
        "automl_run = automl_experiment.submit(config=automl_config)\n",
        "automl_run.wait_for_completion(show_output=True)"
      ],
      "outputs": [
        {
          "output_type": "stream",
          "name": "stdout",
          "text": "Submitting remote run.\n"
        },
        {
          "output_type": "display_data",
          "data": {
            "text/plain": "<IPython.core.display.HTML object>",
            "text/html": "<table style=\"width:100%\"><tr><th>Experiment</th><th>Id</th><th>Type</th><th>Status</th><th>Details Page</th><th>Docs Page</th></tr><tr><td>automl-capstone-project</td><td>AutoML_599542d2-268a-4a5e-8df5-d4610c57a680</td><td>automl</td><td>NotStarted</td><td><a href=\"https://ml.azure.com/runs/AutoML_599542d2-268a-4a5e-8df5-d4610c57a680?wsid=/subscriptions/b1d4fcba-3863-40a9-84b1-4b0f82fd16cc/resourcegroups/rg-UMRDataExternalization-dev/workspaces/UMRAIMLND&amp;tid=db05faca-c82a-4b9d-b9c5-0f64b6755421\" target=\"_blank\" rel=\"noopener\">Link to Azure Machine Learning studio</a></td><td><a href=\"https://docs.microsoft.com/en-us/python/api/overview/azure/ml/intro?view=azure-ml-py\" target=\"_blank\" rel=\"noopener\">Link to Documentation</a></td></tr></table>"
          },
          "metadata": {}
        },
        {
          "output_type": "display_data",
          "data": {
            "text/plain": "<IPython.core.display.HTML object>",
            "text/html": "<table style=\"width:100%\"><tr><th>Experiment</th><th>Id</th><th>Type</th><th>Status</th><th>Details Page</th><th>Docs Page</th></tr><tr><td>automl-capstone-project</td><td>AutoML_599542d2-268a-4a5e-8df5-d4610c57a680</td><td>automl</td><td>NotStarted</td><td><a href=\"https://ml.azure.com/runs/AutoML_599542d2-268a-4a5e-8df5-d4610c57a680?wsid=/subscriptions/b1d4fcba-3863-40a9-84b1-4b0f82fd16cc/resourcegroups/rg-UMRDataExternalization-dev/workspaces/UMRAIMLND&amp;tid=db05faca-c82a-4b9d-b9c5-0f64b6755421\" target=\"_blank\" rel=\"noopener\">Link to Azure Machine Learning studio</a></td><td><a href=\"https://docs.microsoft.com/en-us/python/api/overview/azure/ml/intro?view=azure-ml-py\" target=\"_blank\" rel=\"noopener\">Link to Documentation</a></td></tr></table>"
          },
          "metadata": {}
        },
        {
          "output_type": "stream",
          "name": "stdout",
          "text": "\nCurrent status: FeaturesGeneration. Generating features for the dataset.\nCurrent status: DatasetCrossValidationSplit. Generating individually featurized CV splits.\nCurrent status: ModelSelection. Beginning model selection.\n\n********************************************************************************************\nDATA GUARDRAILS: \n\nTYPE:         Cross validation\nSTATUS:       DONE\nDESCRIPTION:  In order to accurately evaluate the model(s) trained by AutoML, we leverage a dataset that the model is not trained on. Hence, if the user doesn't provide an explicit validation dataset, a part of the training dataset is used to achieve this. For smaller datasets (fewer than 20,000 samples), cross-validation is leveraged, else a single hold-out set is split from the training data to serve as the validation dataset. Hence, for your input data we leverage cross-validation with 10 folds, if the number of training samples are fewer than 1000, and 3 folds in all other cases.\n              Learn more about cross validation: https://aka.ms/AutomatedMLCrossValidation\nDETAILS:      \n+------------------------------+\n|Number of folds               |\n+==============================+\n|10                            |\n+------------------------------+\n\n********************************************************************************************\n\nTYPE:         Class balancing detection\nSTATUS:       PASSED\nDESCRIPTION:  Your inputs were analyzed, and all classes are balanced in your training data.\n              Learn more about imbalanced data: https://aka.ms/AutomatedMLImbalancedData\n\n********************************************************************************************\n\nTYPE:         Missing feature values imputation\nSTATUS:       PASSED\nDESCRIPTION:  No feature missing values were detected in the training data.\n              Learn more about missing value imputation: https://aka.ms/AutomatedMLFeaturization\n\n********************************************************************************************\n\nTYPE:         High cardinality feature detection\nSTATUS:       PASSED\nDESCRIPTION:  Your inputs were analyzed, and no high cardinality features were detected.\n              Learn more about high cardinality feature handling: https://aka.ms/AutomatedMLFeaturization\n\n********************************************************************************************\n\n********************************************************************************************\nITER: The iteration being evaluated.\nPIPELINE: A summary description of the pipeline being evaluated.\nDURATION: Time taken for the current iteration.\nMETRIC: The result of computing score on the fitted pipeline.\nBEST: The best observed score thus far.\n********************************************************************************************\n\n ITER   PIPELINE                                       DURATION            METRIC      BEST\n    0   MaxAbsScaler LightGBM                          0:00:26             0.8617    0.8617\n    1   MaxAbsScaler XGBoostClassifier                 0:00:26             0.8693    0.8693\n    2   MaxAbsScaler ExtremeRandomTrees                0:00:28             0.8519    0.8693\n    3   SparseNormalizer XGBoostClassifier             0:00:20             0.8617    0.8693\n    4   MaxAbsScaler LightGBM                          0:00:25             0.8683    0.8693\n    5   MaxAbsScaler LightGBM                          0:00:25             0.8596    0.8693\n    6   StandardScalerWrapper XGBoostClassifier        0:00:25             0.8650    0.8693\n    8   StandardScalerWrapper ExtremeRandomTrees       0:00:25             0.8508    0.8693\n   12   MaxAbsScaler LogisticRegression                0:00:24             0.8661    0.8693\n    7   MaxAbsScaler LogisticRegression                0:00:25             0.8650    0.8693\n   13   MaxAbsScaler SGD                               0:00:23             0.8628    0.8693\n    9   StandardScalerWrapper XGBoostClassifier        0:00:24             0.8715    0.8715\n   10   SparseNormalizer LightGBM                      0:00:25             0.8650    0.8715\n   14   StandardScalerWrapper XGBoostClassifier        0:00:24             0.8672    0.8715\n   16   StandardScalerWrapper LogisticRegression       0:00:26             0.8672    0.8715\n   17   StandardScalerWrapper RandomForest             0:00:27             0.8704    0.8715\n   11   StandardScalerWrapper XGBoostClassifier        0:00:24             0.8758    0.8758\n   15   SparseNormalizer RandomForest                  0:00:28             0.8715    0.8758\n   18   StandardScalerWrapper XGBoostClassifier        0:00:26             0.8683    0.8758\n   19   TruncatedSVDWrapper RandomForest               0:00:30             0.8498    0.8758\n   21   StandardScalerWrapper XGBoostClassifier        0:00:41             0.8607    0.8758\n   23   StandardScalerWrapper LogisticRegression       0:00:39             0.8661    0.8758\n   20   TruncatedSVDWrapper RandomForest               0:00:48             0.8683    0.8758\n   22   SparseNormalizer XGBoostClassifier             0:00:41             0.8650    0.8758\n   24   StandardScalerWrapper RandomForest             0:00:41             0.8530    0.8758\n   26   SparseNormalizer XGBoostClassifier             0:00:39             0.8606    0.8758\n   25   TruncatedSVDWrapper XGBoostClassifier          0:00:41             0.6264    0.8758\n   27   SparseNormalizer XGBoostClassifier             0:00:40             0.8748    0.8758\n   28   StandardScalerWrapper LightGBM                 0:00:41             0.8574    0.8758\n   29   SparseNormalizer XGBoostClassifier             0:00:40             0.8519    0.8758\n   30   StandardScalerWrapper XGBoostClassifier        0:00:40             0.5535    0.8758\n   31   MaxAbsScaler SGD                               0:00:41             0.8595    0.8758\n   32   SparseNormalizer LightGBM                      0:00:41             0.8704    0.8758\n   33   MaxAbsScaler LightGBM                          0:00:39             0.8541    0.8758\n   34   MaxAbsScaler RandomForest                      0:00:33             0.8442    0.8758\n   35   StandardScalerWrapper XGBoostClassifier        0:00:12                nan    0.8758\n   36                                                  0:00:00                nan    0.8758\n   37    VotingEnsemble                                0:00:50             0.8857    0.8857\n   38    StackEnsemble                                 0:00:59             0.8824    0.8857\n"
        },
        {
          "output_type": "execute_result",
          "execution_count": 21,
          "data": {
            "text/plain": "{'runId': 'AutoML_599542d2-268a-4a5e-8df5-d4610c57a680',\n 'target': 'auto-ml',\n 'status': 'Completed',\n 'startTimeUtc': '2023-02-04T07:49:16.513059Z',\n 'endTimeUtc': '2023-02-04T08:00:02.703155Z',\n 'services': {},\n 'warnings': [{'source': 'JasmineService',\n   'message': 'No scores improved over last 10 iterations, so experiment stopped early. This early stopping behavior can be disabled by setting enable_early_stopping = False in AutoMLConfig for notebook/python SDK runs.'}],\n 'properties': {'num_iterations': '1000',\n  'training_type': 'TrainFull',\n  'acquisition_function': 'EI',\n  'primary_metric': 'accuracy',\n  'train_split': '0',\n  'acquisition_parameter': '0',\n  'num_cross_validation': None,\n  'target': 'auto-ml',\n  'AMLSettingsJsonString': '{\"path\":null,\"name\":\"automl-capstone-project\",\"subscription_id\":\"b1d4fcba-3863-40a9-84b1-4b0f82fd16cc\",\"resource_group\":\"rg-UMRDataExternalization-dev\",\"workspace_name\":\"UMRAIMLND\",\"region\":\"centralus\",\"compute_target\":\"auto-ml\",\"spark_service\":null,\"azure_service\":\"remote\",\"many_models\":false,\"pipeline_fetch_max_batch_size\":1,\"enable_batch_run\":true,\"enable_parallel_run\":false,\"num_procs\":null,\"enable_run_restructure\":false,\"start_auxiliary_runs_before_parent_complete\":false,\"enable_code_generation\":true,\"iterations\":1000,\"primary_metric\":\"accuracy\",\"task_type\":\"classification\",\"positive_label\":null,\"data_script\":null,\"test_size\":0.0,\"test_include_predictions_only\":false,\"validation_size\":0.0,\"n_cross_validations\":null,\"y_min\":null,\"y_max\":null,\"num_classes\":null,\"featurization\":\"auto\",\"_ignore_package_version_incompatibilities\":false,\"is_timeseries\":false,\"max_cores_per_iteration\":1,\"max_concurrent_iterations\":5,\"iteration_timeout_minutes\":20,\"mem_in_mb\":null,\"enforce_time_on_windows\":false,\"experiment_timeout_minutes\":20,\"experiment_exit_score\":null,\"partition_column_names\":null,\"whitelist_models\":null,\"blacklist_algos\":[\"TensorFlowLinearClassifier\",\"TensorFlowDNN\"],\"supported_models\":[\"LogisticRegression\",\"BernoulliNaiveBayes\",\"SVM\",\"KNN\",\"GradientBoosting\",\"MultinomialNaiveBayes\",\"DecisionTree\",\"RandomForest\",\"TensorFlowDNN\",\"TensorFlowLinearClassifier\",\"ExtremeRandomTrees\",\"TabnetClassifier\",\"LinearSVM\",\"SGD\",\"AveragedPerceptronClassifier\",\"XGBoostClassifier\",\"LightGBM\"],\"private_models\":[],\"auto_blacklist\":true,\"blacklist_samples_reached\":false,\"exclude_nan_labels\":true,\"verbosity\":20,\"_debug_log\":\"azureml_automl.log\",\"show_warnings\":false,\"model_explainability\":true,\"service_url\":null,\"sdk_url\":null,\"sdk_packages\":null,\"enable_onnx_compatible_models\":false,\"enable_split_onnx_featurizer_estimator_models\":false,\"vm_type\":\"STANDARD_DS12_V2\",\"telemetry_verbosity\":20,\"send_telemetry\":true,\"enable_dnn\":false,\"scenario\":\"AutoML\",\"environment_label\":null,\"save_mlflow\":false,\"enable_categorical_indicators\":false,\"force_text_dnn\":false,\"enable_feature_sweeping\":true,\"enable_early_stopping\":true,\"early_stopping_n_iters\":10,\"arguments\":null,\"dataset_id\":\"f40678ad-f3c9-4614-a89d-4bdc99088041\",\"hyperdrive_config\":null,\"validation_dataset_id\":null,\"run_source\":null,\"metrics\":null,\"enable_metric_confidence\":false,\"enable_ensembling\":true,\"enable_stack_ensembling\":true,\"ensemble_iterations\":15,\"enable_tf\":false,\"enable_subsampling\":null,\"subsample_seed\":null,\"enable_nimbusml\":false,\"enable_streaming\":false,\"force_streaming\":false,\"track_child_runs\":true,\"n_best_runs\":1,\"allowed_private_models\":[],\"label_column_name\":\"HeartDisease\",\"weight_column_name\":null,\"cv_split_column_names\":null,\"enable_local_managed\":false,\"_local_managed_run_id\":null,\"cost_mode\":1,\"lag_length\":0,\"metric_operation\":\"maximize\",\"preprocess\":true}',\n  'DataPrepJsonString': '{\\\\\"training_data\\\\\": {\\\\\"datasetId\\\\\": \\\\\"f40678ad-f3c9-4614-a89d-4bdc99088041\\\\\"}, \\\\\"datasets\\\\\": 0}',\n  'EnableSubsampling': None,\n  'runTemplate': 'AutoML',\n  'azureml.runsource': 'automl',\n  'display_task_type': 'classification',\n  'dependencies_versions': '{\"azureml-widgets\": \"1.47.0\", \"azureml-training-tabular\": \"1.47.0\", \"azureml-train\": \"1.47.0\", \"azureml-train-restclients-hyperdrive\": \"1.47.0\", \"azureml-train-core\": \"1.47.0\", \"azureml-train-automl\": \"1.47.0\", \"azureml-train-automl-runtime\": \"1.47.0\", \"azureml-train-automl-client\": \"1.47.0\", \"azureml-tensorboard\": \"1.47.0\", \"azureml-telemetry\": \"1.47.0\", \"azureml-sdk\": \"1.47.0\", \"azureml-samples\": \"0+unknown\", \"azureml-responsibleai\": \"1.47.0\", \"azureml-pipeline\": \"1.47.0\", \"azureml-pipeline-steps\": \"1.47.0\", \"azureml-pipeline-core\": \"1.47.0\", \"azureml-opendatasets\": \"1.47.0\", \"azureml-mlflow\": \"1.47.0\", \"azureml-interpret\": \"1.47.0\", \"azureml-inference-server-http\": \"0.7.6\", \"azureml-explain-model\": \"1.47.0\", \"azureml-defaults\": \"1.47.0\", \"azureml-dataset-runtime\": \"1.47.0\", \"azureml-dataprep\": \"4.5.7\", \"azureml-dataprep-rslex\": \"2.11.4\", \"azureml-dataprep-native\": \"38.0.0\", \"azureml-datadrift\": \"1.47.0\", \"azureml-core\": \"1.47.0\", \"azureml-contrib-services\": \"1.47.0\", \"azureml-contrib-server\": \"1.47.0\", \"azureml-contrib-reinforcementlearning\": \"1.47.0\", \"azureml-contrib-pipeline-steps\": \"1.47.0\", \"azureml-contrib-notebook\": \"1.47.0\", \"azureml-contrib-fairness\": \"1.47.0\", \"azureml-contrib-dataset\": \"1.47.0\", \"azureml-contrib-automl-pipeline-steps\": \"1.47.0\", \"azureml-cli-common\": \"1.47.0\", \"azureml-automl-runtime\": \"1.47.0\", \"azureml-automl-dnn-nlp\": \"1.47.0\", \"azureml-automl-core\": \"1.47.0\", \"azureml-accel-models\": \"1.47.0\"}',\n  '_aml_system_scenario_identification': 'Remote.Parent',\n  'ClientType': 'SDK',\n  'environment_cpu_name': 'AzureML-AutoML',\n  'environment_cpu_label': 'prod',\n  'environment_gpu_name': 'AzureML-AutoML-GPU',\n  'environment_gpu_label': 'prod',\n  'root_attribution': 'automl',\n  'attribution': 'AutoML',\n  'Orchestrator': 'AutoML',\n  'CancelUri': 'https://centralus.api.azureml.ms/jasmine/v1.0/subscriptions/b1d4fcba-3863-40a9-84b1-4b0f82fd16cc/resourceGroups/rg-UMRDataExternalization-dev/providers/Microsoft.MachineLearningServices/workspaces/UMRAIMLND/experimentids/90458280-3288-4a05-852d-56914d49a944/cancel/AutoML_599542d2-268a-4a5e-8df5-d4610c57a680',\n  'ClientSdkVersion': '1.48.0.post1',\n  'snapshotId': '00000000-0000-0000-0000-000000000000',\n  'SetupRunId': 'AutoML_599542d2-268a-4a5e-8df5-d4610c57a680_setup',\n  'SetupRunContainerId': 'dcid.AutoML_599542d2-268a-4a5e-8df5-d4610c57a680_setup',\n  'FeaturizationRunJsonPath': 'featurizer_container.json',\n  'FeaturizationRunId': 'AutoML_599542d2-268a-4a5e-8df5-d4610c57a680_featurize',\n  'ProblemInfoJsonString': '{\"dataset_num_categorical\": 0, \"is_sparse\": true, \"subsampling\": false, \"has_extra_col\": true, \"dataset_classes\": 2, \"dataset_features\": 18, \"dataset_samples\": 918, \"single_frequency_class_detected\": false}',\n  'ModelExplainRunId': 'AutoML_599542d2-268a-4a5e-8df5-d4610c57a680_ModelExplain'},\n 'inputDatasets': [{'dataset': {'id': 'f40678ad-f3c9-4614-a89d-4bdc99088041'}, 'consumptionDetails': {'type': 'RunInput', 'inputName': 'training_data', 'mechanism': 'Direct'}}],\n 'outputDatasets': [],\n 'logFiles': {},\n 'submittedBy': 'Sireesha Gummadi'}"
          },
          "metadata": {}
        }
      ],
      "execution_count": 21,
      "metadata": {
        "gather": {
          "logged": 1675497624845
        },
        "jupyter": {
          "outputs_hidden": false,
          "source_hidden": false
        },
        "nteract": {
          "transient": {
            "deleting": false
          }
        }
      }
    },
    {
      "cell_type": "markdown",
      "source": [
        "## Run Details\n",
        "\n",
        "OPTIONAL: Write about the different models trained and their performance. Why do you think some models did better than others?\n",
        "\n",
        "TODO: In the cell below, use the `RunDetails` widget to show the different experiments."
      ],
      "metadata": {}
    },
    {
      "cell_type": "code",
      "source": [
        "from azureml.widgets import RunDetails\n",
        "RunDetails(automl_run).show()"
      ],
      "outputs": [
        {
          "output_type": "display_data",
          "data": {
            "text/plain": "_AutoMLWidget(widget_settings={'childWidgetDisplay': 'popup', 'send_telemetry': False, 'log_level': 'INFO', 's…",
            "application/vnd.jupyter.widget-view+json": {
              "version_major": 2,
              "version_minor": 0,
              "model_id": "b46bd83ac7dc4b53b344f8365b2f2292"
            }
          },
          "metadata": {}
        },
        {
          "output_type": "display_data",
          "data": {
            "application/aml.mini.widget.v1": "{\"status\": \"Completed\", \"workbench_run_details_uri\": \"https://ml.azure.com/runs/AutoML_599542d2-268a-4a5e-8df5-d4610c57a680?wsid=/subscriptions/b1d4fcba-3863-40a9-84b1-4b0f82fd16cc/resourcegroups/rg-UMRDataExternalization-dev/workspaces/UMRAIMLND&tid=db05faca-c82a-4b9d-b9c5-0f64b6755421\", \"run_id\": \"AutoML_599542d2-268a-4a5e-8df5-d4610c57a680\", \"run_properties\": {\"run_id\": \"AutoML_599542d2-268a-4a5e-8df5-d4610c57a680\", \"created_utc\": \"2023-02-04T07:49:03.564718Z\", \"properties\": {\"num_iterations\": \"1000\", \"training_type\": \"TrainFull\", \"acquisition_function\": \"EI\", \"primary_metric\": \"accuracy\", \"train_split\": \"0\", \"acquisition_parameter\": \"0\", \"num_cross_validation\": null, \"target\": \"auto-ml\", \"AMLSettingsJsonString\": \"{\\\"path\\\":null,\\\"name\\\":\\\"automl-capstone-project\\\",\\\"subscription_id\\\":\\\"b1d4fcba-3863-40a9-84b1-4b0f82fd16cc\\\",\\\"resource_group\\\":\\\"rg-UMRDataExternalization-dev\\\",\\\"workspace_name\\\":\\\"UMRAIMLND\\\",\\\"region\\\":\\\"centralus\\\",\\\"compute_target\\\":\\\"auto-ml\\\",\\\"spark_service\\\":null,\\\"azure_service\\\":\\\"remote\\\",\\\"many_models\\\":false,\\\"pipeline_fetch_max_batch_size\\\":1,\\\"enable_batch_run\\\":true,\\\"enable_parallel_run\\\":false,\\\"num_procs\\\":null,\\\"enable_run_restructure\\\":false,\\\"start_auxiliary_runs_before_parent_complete\\\":false,\\\"enable_code_generation\\\":true,\\\"iterations\\\":1000,\\\"primary_metric\\\":\\\"accuracy\\\",\\\"task_type\\\":\\\"classification\\\",\\\"positive_label\\\":null,\\\"data_script\\\":null,\\\"test_size\\\":0.0,\\\"test_include_predictions_only\\\":false,\\\"validation_size\\\":0.0,\\\"n_cross_validations\\\":null,\\\"y_min\\\":null,\\\"y_max\\\":null,\\\"num_classes\\\":null,\\\"featurization\\\":\\\"auto\\\",\\\"_ignore_package_version_incompatibilities\\\":false,\\\"is_timeseries\\\":false,\\\"max_cores_per_iteration\\\":1,\\\"max_concurrent_iterations\\\":5,\\\"iteration_timeout_minutes\\\":20,\\\"mem_in_mb\\\":null,\\\"enforce_time_on_windows\\\":false,\\\"experiment_timeout_minutes\\\":20,\\\"experiment_exit_score\\\":null,\\\"partition_column_names\\\":null,\\\"whitelist_models\\\":null,\\\"blacklist_algos\\\":[\\\"TensorFlowLinearClassifier\\\",\\\"TensorFlowDNN\\\"],\\\"supported_models\\\":[\\\"LogisticRegression\\\",\\\"BernoulliNaiveBayes\\\",\\\"SVM\\\",\\\"KNN\\\",\\\"GradientBoosting\\\",\\\"MultinomialNaiveBayes\\\",\\\"DecisionTree\\\",\\\"RandomForest\\\",\\\"TensorFlowDNN\\\",\\\"TensorFlowLinearClassifier\\\",\\\"ExtremeRandomTrees\\\",\\\"TabnetClassifier\\\",\\\"LinearSVM\\\",\\\"SGD\\\",\\\"AveragedPerceptronClassifier\\\",\\\"XGBoostClassifier\\\",\\\"LightGBM\\\"],\\\"private_models\\\":[],\\\"auto_blacklist\\\":true,\\\"blacklist_samples_reached\\\":false,\\\"exclude_nan_labels\\\":true,\\\"verbosity\\\":20,\\\"_debug_log\\\":\\\"azureml_automl.log\\\",\\\"show_warnings\\\":false,\\\"model_explainability\\\":true,\\\"service_url\\\":null,\\\"sdk_url\\\":null,\\\"sdk_packages\\\":null,\\\"enable_onnx_compatible_models\\\":false,\\\"enable_split_onnx_featurizer_estimator_models\\\":false,\\\"vm_type\\\":\\\"STANDARD_DS12_V2\\\",\\\"telemetry_verbosity\\\":20,\\\"send_telemetry\\\":true,\\\"enable_dnn\\\":false,\\\"scenario\\\":\\\"AutoML\\\",\\\"environment_label\\\":null,\\\"save_mlflow\\\":false,\\\"enable_categorical_indicators\\\":false,\\\"force_text_dnn\\\":false,\\\"enable_feature_sweeping\\\":true,\\\"enable_early_stopping\\\":true,\\\"early_stopping_n_iters\\\":10,\\\"arguments\\\":null,\\\"dataset_id\\\":\\\"f40678ad-f3c9-4614-a89d-4bdc99088041\\\",\\\"hyperdrive_config\\\":null,\\\"validation_dataset_id\\\":null,\\\"run_source\\\":null,\\\"metrics\\\":null,\\\"enable_metric_confidence\\\":false,\\\"enable_ensembling\\\":true,\\\"enable_stack_ensembling\\\":true,\\\"ensemble_iterations\\\":15,\\\"enable_tf\\\":false,\\\"enable_subsampling\\\":null,\\\"subsample_seed\\\":null,\\\"enable_nimbusml\\\":false,\\\"enable_streaming\\\":false,\\\"force_streaming\\\":false,\\\"track_child_runs\\\":true,\\\"n_best_runs\\\":1,\\\"allowed_private_models\\\":[],\\\"label_column_name\\\":\\\"HeartDisease\\\",\\\"weight_column_name\\\":null,\\\"cv_split_column_names\\\":null,\\\"enable_local_managed\\\":false,\\\"_local_managed_run_id\\\":null,\\\"cost_mode\\\":1,\\\"lag_length\\\":0,\\\"metric_operation\\\":\\\"maximize\\\",\\\"preprocess\\\":true}\", \"DataPrepJsonString\": \"{\\\\\\\"training_data\\\\\\\": {\\\\\\\"datasetId\\\\\\\": \\\\\\\"f40678ad-f3c9-4614-a89d-4bdc99088041\\\\\\\"}, \\\\\\\"datasets\\\\\\\": 0}\", \"EnableSubsampling\": null, \"runTemplate\": \"AutoML\", \"azureml.runsource\": \"automl\", \"display_task_type\": \"classification\", \"dependencies_versions\": \"{\\\"azureml-widgets\\\": \\\"1.47.0\\\", \\\"azureml-training-tabular\\\": \\\"1.47.0\\\", \\\"azureml-train\\\": \\\"1.47.0\\\", \\\"azureml-train-restclients-hyperdrive\\\": \\\"1.47.0\\\", \\\"azureml-train-core\\\": \\\"1.47.0\\\", \\\"azureml-train-automl\\\": \\\"1.47.0\\\", \\\"azureml-train-automl-runtime\\\": \\\"1.47.0\\\", \\\"azureml-train-automl-client\\\": \\\"1.47.0\\\", \\\"azureml-tensorboard\\\": \\\"1.47.0\\\", \\\"azureml-telemetry\\\": \\\"1.47.0\\\", \\\"azureml-sdk\\\": \\\"1.47.0\\\", \\\"azureml-samples\\\": \\\"0+unknown\\\", \\\"azureml-responsibleai\\\": \\\"1.47.0\\\", \\\"azureml-pipeline\\\": \\\"1.47.0\\\", \\\"azureml-pipeline-steps\\\": \\\"1.47.0\\\", \\\"azureml-pipeline-core\\\": \\\"1.47.0\\\", \\\"azureml-opendatasets\\\": \\\"1.47.0\\\", \\\"azureml-mlflow\\\": \\\"1.47.0\\\", \\\"azureml-interpret\\\": \\\"1.47.0\\\", \\\"azureml-inference-server-http\\\": \\\"0.7.6\\\", \\\"azureml-explain-model\\\": \\\"1.47.0\\\", \\\"azureml-defaults\\\": \\\"1.47.0\\\", \\\"azureml-dataset-runtime\\\": \\\"1.47.0\\\", \\\"azureml-dataprep\\\": \\\"4.5.7\\\", \\\"azureml-dataprep-rslex\\\": \\\"2.11.4\\\", \\\"azureml-dataprep-native\\\": \\\"38.0.0\\\", \\\"azureml-datadrift\\\": \\\"1.47.0\\\", \\\"azureml-core\\\": \\\"1.47.0\\\", \\\"azureml-contrib-services\\\": \\\"1.47.0\\\", \\\"azureml-contrib-server\\\": \\\"1.47.0\\\", \\\"azureml-contrib-reinforcementlearning\\\": \\\"1.47.0\\\", \\\"azureml-contrib-pipeline-steps\\\": \\\"1.47.0\\\", \\\"azureml-contrib-notebook\\\": \\\"1.47.0\\\", \\\"azureml-contrib-fairness\\\": \\\"1.47.0\\\", \\\"azureml-contrib-dataset\\\": \\\"1.47.0\\\", \\\"azureml-contrib-automl-pipeline-steps\\\": \\\"1.47.0\\\", \\\"azureml-cli-common\\\": \\\"1.47.0\\\", \\\"azureml-automl-runtime\\\": \\\"1.47.0\\\", \\\"azureml-automl-dnn-nlp\\\": \\\"1.47.0\\\", \\\"azureml-automl-core\\\": \\\"1.47.0\\\", \\\"azureml-accel-models\\\": \\\"1.47.0\\\"}\", \"_aml_system_scenario_identification\": \"Remote.Parent\", \"ClientType\": \"SDK\", \"environment_cpu_name\": \"AzureML-AutoML\", \"environment_cpu_label\": \"prod\", \"environment_gpu_name\": \"AzureML-AutoML-GPU\", \"environment_gpu_label\": \"prod\", \"root_attribution\": \"automl\", \"attribution\": \"AutoML\", \"Orchestrator\": \"AutoML\", \"CancelUri\": \"https://centralus.api.azureml.ms/jasmine/v1.0/subscriptions/b1d4fcba-3863-40a9-84b1-4b0f82fd16cc/resourceGroups/rg-UMRDataExternalization-dev/providers/Microsoft.MachineLearningServices/workspaces/UMRAIMLND/experimentids/90458280-3288-4a05-852d-56914d49a944/cancel/AutoML_599542d2-268a-4a5e-8df5-d4610c57a680\", \"ClientSdkVersion\": \"1.48.0.post1\", \"snapshotId\": \"00000000-0000-0000-0000-000000000000\", \"SetupRunId\": \"AutoML_599542d2-268a-4a5e-8df5-d4610c57a680_setup\", \"SetupRunContainerId\": \"dcid.AutoML_599542d2-268a-4a5e-8df5-d4610c57a680_setup\", \"FeaturizationRunJsonPath\": \"featurizer_container.json\", \"FeaturizationRunId\": \"AutoML_599542d2-268a-4a5e-8df5-d4610c57a680_featurize\", \"ProblemInfoJsonString\": \"{\\\"dataset_num_categorical\\\": 0, \\\"is_sparse\\\": true, \\\"subsampling\\\": false, \\\"has_extra_col\\\": true, \\\"dataset_classes\\\": 2, \\\"dataset_features\\\": 18, \\\"dataset_samples\\\": 918, \\\"single_frequency_class_detected\\\": false}\", \"ModelExplainRunId\": \"AutoML_599542d2-268a-4a5e-8df5-d4610c57a680_ModelExplain\"}, \"tags\": {\"model_explain_run\": \"best_run\", \"_aml_system_automl_run_workspace_id\": \"e9980232-ccdc-42c6-9cc5-8476a62e30d8\", \"_aml_system_azureml.automlComponent\": \"AutoML\", \"pipeline_id_000\": \"5dfac790c5c209f98a1da2dc1c7fb76f0397324f;c7af0367625be6ac5c2fecbfc72ed444cb7a2111;799d2168db11fc19b9e1c6c1df62f8981ad39fe9;44b5d2d23120dfcf96a7dc6389a293d17a966b1b;3735210984ea10097d5c91905cf6300ac278cd89;5304e705d6f401cb07f85bcf0ca59ac1f84dfcf5;294650ec23bc3d067a4972de7ceb12f6e97260fa;da45f657e4591caadf1589a85a1f7b8932585595;79ebb3b8c385e3190e3dd4c1fa28b74730528045;3caa818370e5e0c328d6266c359019bd31681270;797e3e972ad02d947be4c64d2b06b775b6df7a49;589334a57221e0720a95cf217c065115a7b841d1;5235e3d56688f5f38ef82d73fba7c2e698fc1af2;3fd2e115482e0c7b92aa3297688aefb6c3aa6fb8;5a8eb9d9f67b1dd7e9e4062585daa2417ea78989;17f87d449bb43aaf3cdae4b7eb6dd6e7fbdaf343;1dfdf370ba770047b14bfa59c40920815defcdab;35b8e2db3c5f6e714072e1be9f0210fe48426975;dc68fbd594530b5d52812dd9b3ffa3d6d8ba625e;e478544eb8734c07a1943f5bdf4e6605be6943df;2032292dd602836ed754a266c771ac100c4c80dc;f52e31edb9a1c79d3094620546ebbc7788edbaf8;fedbb4995d6de479c513576119965d71276f03d1;1b9ea9b05e1aba0cfbaa30fae26f336a29920979;3ef9040509da05037cd402691a100d4b3dfeb7c4;a1a8a8d721a4a21920496cad156c2cb8a18be08a;675ec1c734ed516311cf5441a13a05b407df5a00;73a68134036e64d42c047d7a83b619494a0d4d5b;a6bd27dd928875b84f691d4dfa1c1a3794c161f1;8d6cf3e6f4331d0d81d9c1db48ceda8fada5f519;8cb70774adbfaf1a95780a248e76a10691b2d3ce;9f1794d3be06fafbe53fcdea096b8fcf202e2353;e10ed504c41063053d5e81283f96b5f132cae619;aff52efc649e33f0d41497548b183c9a2282202d;25f9af08587fbf515a325c3c1b647a4ad868d3ad;0963cc9668fe02e951cee2ada7ee8c1ade3ca363;518cb3b751d410b099b005f8fcea058a18a00458;__AutoML_Ensemble__;__AutoML_Stack_Ensemble__\", \"score\": \"\", \"predicted_cost\": \"\", \"fit_time\": \"\", \"training_percent\": \"\", \"iteration\": \"\", \"run_preprocessor\": \"\", \"run_algorithm\": \"\", \"dynamic_allowlisting_iterations\": \"<25>;<30>;<35>;\", \"_aml_system_azureml.automl_early_exit_message\": \"No scores improved over last 10 iterations, so experiment stopped early. This early stopping behavior can be disabled by setting enable_early_stopping = False in AutoMLConfig for notebook/python SDK runs.\", \"automl_best_child_run_id\": \"AutoML_599542d2-268a-4a5e-8df5-d4610c57a680_37\", \"model_explain_best_run_child_id\": \"AutoML_599542d2-268a-4a5e-8df5-d4610c57a680_37\"}, \"end_time_utc\": \"2023-02-04T08:00:02.703155Z\", \"status\": \"Completed\", \"log_files\": {}, \"log_groups\": [], \"run_duration\": \"0:10:59\", \"run_number\": \"1675496943\", \"run_queued_details\": {\"status\": \"Completed\", \"details\": null}}, \"child_runs\": [{\"run_id\": \"AutoML_599542d2-268a-4a5e-8df5-d4610c57a680_setup\", \"run_number\": 1675496955, \"metric\": null, \"status\": \"Completed\", \"run_type\": \"azureml.scriptrun\", \"training_percent\": null, \"start_time\": \"2023-02-04T07:49:29.78392Z\", \"end_time\": \"2023-02-04T07:50:06.540243Z\", \"created_time\": \"2023-02-04T07:49:15.585625Z\", \"created_time_dt\": \"2023-02-04T07:49:15.585625Z\", \"duration\": \"0:00:50\", \"iteration\": null, \"goal\": null, \"run_name\": \"Completed\", \"run_properties\": null}, {\"run_id\": \"AutoML_599542d2-268a-4a5e-8df5-d4610c57a680_featurize\", \"run_number\": 1675497006, \"metric\": null, \"status\": \"Completed\", \"run_type\": \"automl.featurization\", \"training_percent\": null, \"start_time\": \"2023-02-04T07:50:06.945461Z\", \"end_time\": \"2023-02-04T07:50:43.237935Z\", \"created_time\": \"2023-02-04T07:50:06.734508Z\", \"created_time_dt\": \"2023-02-04T07:50:06.734508Z\", \"duration\": \"0:00:36\", \"iteration\": null, \"goal\": null, \"run_name\": \"Completed\", \"run_properties\": null}, {\"run_id\": \"AutoML_599542d2-268a-4a5e-8df5-d4610c57a680_0\", \"run_number\": 1675497044, \"metric\": null, \"status\": \"Completed\", \"run_type\": null, \"training_percent\": \"100\", \"start_time\": \"2023-02-04T07:51:01.332291Z\", \"end_time\": \"2023-02-04T07:51:27.559789Z\", \"created_time\": \"2023-02-04T07:50:44.480417Z\", \"created_time_dt\": \"2023-02-04T07:50:44.480417Z\", \"duration\": \"0:00:43\", \"iteration\": \"0\", \"goal\": \"accuracy_max\", \"run_name\": \"MaxAbsScaler, LightGBM\", \"run_properties\": \"copy=True\", \"primary_metric\": 0.86171763, \"best_metric\": 0.86171763}, {\"run_id\": \"AutoML_599542d2-268a-4a5e-8df5-d4610c57a680_worker_0\", \"run_number\": 1675497045, \"metric\": null, \"status\": \"Completed\", \"run_type\": \"azureml.scriptrun\", \"training_percent\": null, \"start_time\": \"2023-02-04T07:50:52.603197Z\", \"end_time\": \"2023-02-04T07:52:51.344858Z\", \"created_time\": \"2023-02-04T07:50:45.867406Z\", \"created_time_dt\": \"2023-02-04T07:50:45.867406Z\", \"duration\": \"0:02:05\", \"iteration\": null, \"goal\": null, \"run_name\": \"Completed\", \"run_properties\": null}, {\"run_id\": \"AutoML_599542d2-268a-4a5e-8df5-d4610c57a680_4\", \"run_number\": 1675497046, \"metric\": null, \"status\": \"Completed\", \"run_type\": null, \"training_percent\": \"100\", \"start_time\": \"2023-02-04T07:53:03.018755Z\", \"end_time\": \"2023-02-04T07:53:28.067584Z\", \"created_time\": \"2023-02-04T07:50:46.065761Z\", \"created_time_dt\": \"2023-02-04T07:50:46.065761Z\", \"duration\": \"0:02:42\", \"iteration\": \"4\", \"goal\": \"accuracy_max\", \"run_name\": \"MaxAbsScaler, LightGBM\", \"run_properties\": \"copy=True\", \"primary_metric\": 0.8682752, \"best_metric\": 0.8682752}, {\"run_id\": \"AutoML_599542d2-268a-4a5e-8df5-d4610c57a680_worker_1\", \"run_number\": 1675497047, \"metric\": null, \"status\": \"Completed\", \"run_type\": \"azureml.scriptrun\", \"training_percent\": null, \"start_time\": \"2023-02-04T07:52:53.938632Z\", \"end_time\": \"2023-02-04T07:54:51.968026Z\", \"created_time\": \"2023-02-04T07:50:47.57894Z\", \"created_time_dt\": \"2023-02-04T07:50:47.57894Z\", \"duration\": \"0:04:04\", \"iteration\": null, \"goal\": null, \"run_name\": \"Completed\", \"run_properties\": null}, {\"run_id\": \"AutoML_599542d2-268a-4a5e-8df5-d4610c57a680_9\", \"run_number\": 1675497048, \"metric\": null, \"status\": \"Completed\", \"run_type\": null, \"training_percent\": \"100\", \"start_time\": \"2023-02-04T07:54:33.041979Z\", \"end_time\": \"2023-02-04T07:54:57.4431Z\", \"created_time\": \"2023-02-04T07:50:48.149646Z\", \"created_time_dt\": \"2023-02-04T07:50:48.149646Z\", \"duration\": \"0:04:09\", \"iteration\": \"9\", \"goal\": \"accuracy_max\", \"run_name\": \"StandardScalerWrapper, XGBoostClassifier\", \"run_properties\": \"copy=True, with_mean=False, with_std=False\", \"primary_metric\": 0.87151218, \"best_metric\": 0.87151218}, {\"run_id\": \"AutoML_599542d2-268a-4a5e-8df5-d4610c57a680_worker_2\", \"run_number\": 1675497049, \"metric\": null, \"status\": \"Completed\", \"run_type\": \"azureml.scriptrun\", \"training_percent\": null, \"start_time\": \"2023-02-04T07:53:09.375736Z\", \"end_time\": \"2023-02-04T07:55:55.367466Z\", \"created_time\": \"2023-02-04T07:50:49.208236Z\", \"created_time_dt\": \"2023-02-04T07:50:49.208236Z\", \"duration\": \"0:05:06\", \"iteration\": null, \"goal\": null, \"run_name\": \"Completed\", \"run_properties\": null}, {\"run_id\": \"AutoML_599542d2-268a-4a5e-8df5-d4610c57a680_worker_3\", \"run_number\": 1675497050, \"metric\": null, \"status\": \"Completed\", \"run_type\": \"azureml.scriptrun\", \"training_percent\": null, \"start_time\": \"2023-02-04T07:53:09.077231Z\", \"end_time\": \"2023-02-04T07:55:54.903814Z\", \"created_time\": \"2023-02-04T07:50:50.985771Z\", \"created_time_dt\": \"2023-02-04T07:50:50.985771Z\", \"duration\": \"0:05:03\", \"iteration\": null, \"goal\": null, \"run_name\": \"Completed\", \"run_properties\": null}, {\"run_id\": \"AutoML_599542d2-268a-4a5e-8df5-d4610c57a680_16\", \"run_number\": 1675497051, \"metric\": null, \"status\": \"Completed\", \"run_type\": null, \"training_percent\": \"100\", \"start_time\": \"2023-02-04T07:54:38.102848Z\", \"end_time\": \"2023-02-04T07:55:04.246376Z\", \"created_time\": \"2023-02-04T07:50:51.13257Z\", \"created_time_dt\": \"2023-02-04T07:50:51.13257Z\", \"duration\": \"0:04:13\", \"iteration\": \"16\", \"goal\": \"accuracy_max\", \"run_name\": \"StandardScalerWrapper, LogisticRegression\", \"run_properties\": \"copy=True, with_mean=False, with_std=False\", \"primary_metric\": 0.86715241, \"best_metric\": 0.87151218}, {\"run_id\": \"AutoML_599542d2-268a-4a5e-8df5-d4610c57a680_worker_4\", \"run_number\": 1675497052, \"metric\": null, \"status\": \"Completed\", \"run_type\": \"azureml.scriptrun\", \"training_percent\": null, \"start_time\": \"2023-02-04T07:53:37.086951Z\", \"end_time\": \"2023-02-04T07:56:36.522619Z\", \"created_time\": \"2023-02-04T07:50:52.519888Z\", \"created_time_dt\": \"2023-02-04T07:50:52.519888Z\", \"duration\": \"0:05:44\", \"iteration\": null, \"goal\": null, \"run_name\": \"Completed\", \"run_properties\": null}, {\"run_id\": \"AutoML_599542d2-268a-4a5e-8df5-d4610c57a680_21\", \"run_number\": 1675497333, \"metric\": null, \"status\": \"Completed\", \"run_type\": \"azureml.scriptrun\", \"training_percent\": \"100\", \"start_time\": \"2023-02-04T07:55:43.441728Z\", \"end_time\": \"2023-02-04T07:56:24.290374Z\", \"created_time\": \"2023-02-04T07:55:33.796431Z\", \"created_time_dt\": \"2023-02-04T07:55:33.796431Z\", \"duration\": \"0:00:50\", \"iteration\": \"21\", \"goal\": \"accuracy_max\", \"run_name\": \"StandardScalerWrapper, XGBoostClassifier\", \"run_properties\": \"copy=True, with_mean=False, with_std=False\", \"primary_metric\": 0.86066651, \"best_metric\": 0.87151218}, {\"run_id\": \"AutoML_599542d2-268a-4a5e-8df5-d4610c57a680_22\", \"run_number\": 1675497359, \"metric\": null, \"status\": \"Completed\", \"run_type\": \"azureml.scriptrun\", \"training_percent\": \"100\", \"start_time\": \"2023-02-04T07:56:26.883415Z\", \"end_time\": \"2023-02-04T07:57:08.217807Z\", \"created_time\": \"2023-02-04T07:55:59.983467Z\", \"created_time_dt\": \"2023-02-04T07:55:59.983467Z\", \"duration\": \"0:01:08\", \"iteration\": \"22\", \"goal\": \"accuracy_max\", \"run_name\": \"SparseNormalizer, XGBoostClassifier\", \"run_properties\": \"copy=True, norm='l1'\", \"primary_metric\": 0.86502628, \"best_metric\": 0.87151218}, {\"run_id\": \"AutoML_599542d2-268a-4a5e-8df5-d4610c57a680_23\", \"run_number\": 1675497360, \"metric\": null, \"status\": \"Completed\", \"run_type\": \"azureml.scriptrun\", \"training_percent\": \"100\", \"start_time\": \"2023-02-04T07:56:05.423556Z\", \"end_time\": \"2023-02-04T07:56:44.030776Z\", \"created_time\": \"2023-02-04T07:56:00.011486Z\", \"created_time_dt\": \"2023-02-04T07:56:00.011486Z\", \"duration\": \"0:00:44\", \"iteration\": \"23\", \"goal\": \"accuracy_max\", \"run_name\": \"StandardScalerWrapper, LogisticRegression\", \"run_properties\": \"copy=True, with_mean=False, with_std=True\", \"primary_metric\": 0.8660774, \"best_metric\": 0.87151218}, {\"run_id\": \"AutoML_599542d2-268a-4a5e-8df5-d4610c57a680_24\", \"run_number\": 1675497386, \"metric\": null, \"status\": \"Completed\", \"run_type\": \"azureml.scriptrun\", \"training_percent\": \"100\", \"start_time\": \"2023-02-04T07:56:41.975417Z\", \"end_time\": \"2023-02-04T07:57:22.989885Z\", \"created_time\": \"2023-02-04T07:56:26.474901Z\", \"created_time_dt\": \"2023-02-04T07:56:26.474901Z\", \"duration\": \"0:00:56\", \"iteration\": \"24\", \"goal\": \"accuracy_max\", \"run_name\": \"StandardScalerWrapper, RandomForest\", \"run_properties\": \"copy=True, with_mean=False, with_std=False\", \"primary_metric\": 0.85303392, \"best_metric\": 0.87151218}, {\"run_id\": \"AutoML_599542d2-268a-4a5e-8df5-d4610c57a680_25\", \"run_number\": 1675497406, \"metric\": null, \"status\": \"Completed\", \"run_type\": \"azureml.scriptrun\", \"training_percent\": \"100\", \"start_time\": \"2023-02-04T07:56:52.122625Z\", \"end_time\": \"2023-02-04T07:57:32.976046Z\", \"created_time\": \"2023-02-04T07:56:46.369741Z\", \"created_time_dt\": \"2023-02-04T07:56:46.369741Z\", \"duration\": \"0:00:46\", \"iteration\": \"25\", \"goal\": \"accuracy_max\", \"run_name\": \"TruncatedSVDWrapper, XGBoostClassifier\", \"run_properties\": \"n_components=0.01, random_state=None\", \"primary_metric\": 0.62639752, \"best_metric\": 0.87151218}, {\"run_id\": \"AutoML_599542d2-268a-4a5e-8df5-d4610c57a680_27\", \"run_number\": 1675497408, \"metric\": null, \"status\": \"Completed\", \"run_type\": \"azureml.scriptrun\", \"training_percent\": \"100\", \"start_time\": \"2023-02-04T07:57:14.323931Z\", \"end_time\": \"2023-02-04T07:57:54.240399Z\", \"created_time\": \"2023-02-04T07:56:48.319589Z\", \"created_time_dt\": \"2023-02-04T07:56:48.319589Z\", \"duration\": \"0:01:05\", \"iteration\": \"27\", \"goal\": \"accuracy_max\", \"run_name\": \"SparseNormalizer, XGBoostClassifier\", \"run_properties\": \"copy=True, norm='l2'\", \"primary_metric\": 0.87477305, \"best_metric\": 0.87477305}, {\"run_id\": \"AutoML_599542d2-268a-4a5e-8df5-d4610c57a680_28\", \"run_number\": 1675497429, \"metric\": null, \"status\": \"Completed\", \"run_type\": \"azureml.scriptrun\", \"training_percent\": \"100\", \"start_time\": \"2023-02-04T07:57:28.623357Z\", \"end_time\": \"2023-02-04T07:58:09.144098Z\", \"created_time\": \"2023-02-04T07:57:09.606826Z\", \"created_time_dt\": \"2023-02-04T07:57:09.606826Z\", \"duration\": \"0:00:59\", \"iteration\": \"28\", \"goal\": \"accuracy_max\", \"run_name\": \"StandardScalerWrapper, LightGBM\", \"run_properties\": \"copy=True, with_mean=False, with_std=False\", \"primary_metric\": 0.8573698, \"best_metric\": 0.87477305}, {\"run_id\": \"AutoML_599542d2-268a-4a5e-8df5-d4610c57a680_29\", \"run_number\": 1675497444, \"metric\": null, \"status\": \"Completed\", \"run_type\": \"azureml.scriptrun\", \"training_percent\": \"100\", \"start_time\": \"2023-02-04T07:57:34.804999Z\", \"end_time\": \"2023-02-04T07:58:14.918407Z\", \"created_time\": \"2023-02-04T07:57:24.292441Z\", \"created_time_dt\": \"2023-02-04T07:57:24.292441Z\", \"duration\": \"0:00:50\", \"iteration\": \"29\", \"goal\": \"accuracy_max\", \"run_name\": \"SparseNormalizer, XGBoostClassifier\", \"run_properties\": \"copy=True, norm='l1'\", \"primary_metric\": 0.85192308, \"best_metric\": 0.87477305}, {\"run_id\": \"AutoML_599542d2-268a-4a5e-8df5-d4610c57a680_30\", \"run_number\": 1675497453, \"metric\": null, \"status\": \"Completed\", \"run_type\": \"azureml.scriptrun\", \"training_percent\": \"100\", \"start_time\": \"2023-02-04T07:57:37.836612Z\", \"end_time\": \"2023-02-04T07:58:17.720891Z\", \"created_time\": \"2023-02-04T07:57:33.633733Z\", \"created_time_dt\": \"2023-02-04T07:57:33.633733Z\", \"duration\": \"0:00:44\", \"iteration\": \"30\", \"goal\": \"accuracy_max\", \"run_name\": \"StandardScalerWrapper, XGBoostClassifier\", \"run_properties\": \"copy=True, with_mean=False, with_std=False\", \"primary_metric\": 0.55348782, \"best_metric\": 0.87477305}, {\"run_id\": \"AutoML_599542d2-268a-4a5e-8df5-d4610c57a680_31\", \"run_number\": 1675497455, \"metric\": null, \"status\": \"Completed\", \"run_type\": \"azureml.scriptrun\", \"training_percent\": \"100\", \"start_time\": \"2023-02-04T07:57:58.968366Z\", \"end_time\": \"2023-02-04T07:58:39.517365Z\", \"created_time\": \"2023-02-04T07:57:35.60102Z\", \"created_time_dt\": \"2023-02-04T07:57:35.60102Z\", \"duration\": \"0:01:03\", \"iteration\": \"31\", \"goal\": \"accuracy_max\", \"run_name\": \"MaxAbsScaler, SGD\", \"run_properties\": \"copy=True\", \"primary_metric\": 0.85953177, \"best_metric\": 0.87477305}, {\"run_id\": \"AutoML_599542d2-268a-4a5e-8df5-d4610c57a680_32\", \"run_number\": 1675497475, \"metric\": null, \"status\": \"Completed\", \"run_type\": \"azureml.scriptrun\", \"training_percent\": \"100\", \"start_time\": \"2023-02-04T07:58:14.189034Z\", \"end_time\": \"2023-02-04T07:58:55.674895Z\", \"created_time\": \"2023-02-04T07:57:55.598831Z\", \"created_time_dt\": \"2023-02-04T07:57:55.598831Z\", \"duration\": \"0:01:00\", \"iteration\": \"32\", \"goal\": \"accuracy_max\", \"run_name\": \"SparseNormalizer, LightGBM\", \"run_properties\": \"copy=True, norm='l1'\", \"primary_metric\": 0.87040134, \"best_metric\": 0.87477305}, {\"run_id\": \"AutoML_599542d2-268a-4a5e-8df5-d4610c57a680_33\", \"run_number\": 1675497490, \"metric\": null, \"status\": \"Completed\", \"run_type\": \"azureml.scriptrun\", \"training_percent\": \"100\", \"start_time\": \"2023-02-04T07:58:17.340534Z\", \"end_time\": \"2023-02-04T07:58:55.883892Z\", \"created_time\": \"2023-02-04T07:58:10.502416Z\", \"created_time_dt\": \"2023-02-04T07:58:10.502416Z\", \"duration\": \"0:00:45\", \"iteration\": \"33\", \"goal\": \"accuracy_max\", \"run_name\": \"MaxAbsScaler, LightGBM\", \"run_properties\": \"copy=True\", \"primary_metric\": 0.85412088, \"best_metric\": 0.87477305}, {\"run_id\": \"AutoML_599542d2-268a-4a5e-8df5-d4610c57a680_34\", \"run_number\": 1675497496, \"metric\": null, \"status\": \"Canceled\", \"run_type\": \"azureml.scriptrun\", \"training_percent\": \"100\", \"start_time\": \"2023-02-04T07:58:23.29383Z\", \"end_time\": \"2023-02-04T07:58:56.502143Z\", \"created_time\": \"2023-02-04T07:58:16.271397Z\", \"created_time_dt\": \"2023-02-04T07:58:16.271397Z\", \"duration\": \"0:00:40\", \"iteration\": \"34\", \"goal\": \"accuracy_max\", \"run_name\": \"MaxAbsScaler, RandomForest\", \"run_properties\": \"copy=True\", \"primary_metric\": 0.84423077, \"best_metric\": 0.87477305}, {\"run_id\": \"AutoML_599542d2-268a-4a5e-8df5-d4610c57a680_35\", \"run_number\": 1675497499, \"metric\": null, \"status\": \"Canceled\", \"run_type\": \"azureml.scriptrun\", \"training_percent\": \"100\", \"start_time\": \"2023-02-04T07:58:44.735501Z\", \"end_time\": \"2023-02-04T07:58:56.498116Z\", \"created_time\": \"2023-02-04T07:58:19.987519Z\", \"created_time_dt\": \"2023-02-04T07:58:19.987519Z\", \"duration\": \"0:00:36\", \"iteration\": \"35\", \"goal\": null, \"run_name\": \"StandardScalerWrapper, XGBoostClassifier\", \"run_properties\": null}, {\"run_id\": \"AutoML_599542d2-268a-4a5e-8df5-d4610c57a680_36\", \"run_number\": 1675497520, \"metric\": null, \"status\": \"Canceled\", \"run_type\": \"azureml.scriptrun\", \"training_percent\": \"100\", \"start_time\": \"2023-02-04T07:58:56.268627Z\", \"end_time\": \"2023-02-04T07:58:56.401354Z\", \"created_time\": \"2023-02-04T07:58:40.766369Z\", \"created_time_dt\": \"2023-02-04T07:58:40.766369Z\", \"duration\": \"0:00:15\", \"iteration\": \"36\", \"goal\": null, \"run_name\": \"Canceled\", \"run_properties\": null}, {\"run_id\": \"AutoML_599542d2-268a-4a5e-8df5-d4610c57a680_37\", \"run_number\": 1675497537, \"metric\": null, \"status\": \"Completed\", \"run_type\": \"azureml.scriptrun\", \"training_percent\": \"100\", \"start_time\": \"2023-02-04T07:59:01.900683Z\", \"end_time\": \"2023-02-04T07:59:52.278649Z\", \"created_time\": \"2023-02-04T07:58:57.213564Z\", \"created_time_dt\": \"2023-02-04T07:58:57.213564Z\", \"duration\": \"0:00:55\", \"iteration\": \"37\", \"goal\": \"accuracy_max\", \"run_name\": \"VotingEnsemble\", \"run_properties\": \"classification_labels=numpy.array([0, 1]\", \"primary_metric\": 0.88567845, \"best_metric\": 0.88567845}], \"children_metrics\": {\"categories\": [0], \"series\": {\"AUC_micro\": [{\"categories\": [\"0\", \"4\", \"9\", \"16\", \"21\", \"22\", \"23\", \"24\", \"25\", \"27\", \"28\", \"29\", \"30\", \"31\", \"32\", \"33\", \"34\", \"37\"], \"mode\": \"markers\", \"name\": \"AUC_micro\", \"stepped\": false, \"type\": \"scatter\", \"data\": [0.9297018190112926, 0.9336301867029292, 0.9323355925685897, 0.9280080017823844, 0.9279248420154182, 0.9249429579384241, 0.9282857460161725, 0.9248152128828397, 0.6872242531871419, 0.9352535078135682, 0.9219481462678247, 0.9240964737759176, 0.5534878165312949, 0.9236610902288678, 0.9337563637830832, 0.9235076925816242, 0.9107757734641602, 0.9396400410646916]}, {\"categories\": [\"0\", \"4\", \"9\", \"16\", \"21\", \"22\", \"23\", \"24\", \"25\", \"27\", \"28\", \"29\", \"30\", \"31\", \"32\", \"33\", \"34\", \"37\"], \"mode\": \"lines\", \"name\": \"AUC_micro_max\", \"stepped\": true, \"type\": \"scatter\", \"data\": [0.9297018190112926, 0.9336301867029292, 0.9336301867029292, 0.9336301867029292, 0.9336301867029292, 0.9336301867029292, 0.9336301867029292, 0.9336301867029292, 0.9336301867029292, 0.9352535078135682, 0.9352535078135682, 0.9352535078135682, 0.9352535078135682, 0.9352535078135682, 0.9352535078135682, 0.9352535078135682, 0.9352535078135682, 0.9396400410646916]}], \"f1_score_weighted\": [{\"categories\": [\"0\", \"4\", \"9\", \"16\", \"21\", \"22\", \"23\", \"24\", \"25\", \"27\", \"28\", \"29\", \"30\", \"31\", \"32\", \"33\", \"34\", \"37\"], \"mode\": \"markers\", \"name\": \"f1_score_weighted\", \"stepped\": false, \"type\": \"scatter\", \"data\": [0.8612695523743635, 0.8675538005986757, 0.8709432419491007, 0.8669215570323171, 0.8603446982329267, 0.8645778785526176, 0.8658199929041526, 0.8518462254566381, 0.6192856597588754, 0.8741735322599172, 0.8555909529429844, 0.8514962559356516, 0.39535045718888506, 0.8589649371015493, 0.8700487970267365, 0.8532246091919685, 0.8421604249837202, 0.88521851602033]}, {\"categories\": [\"0\", \"4\", \"9\", \"16\", \"21\", \"22\", \"23\", \"24\", \"25\", \"27\", \"28\", \"29\", \"30\", \"31\", \"32\", \"33\", \"34\", \"37\"], \"mode\": \"lines\", \"name\": \"f1_score_weighted_max\", \"stepped\": true, \"type\": \"scatter\", \"data\": [0.8612695523743635, 0.8675538005986757, 0.8709432419491007, 0.8709432419491007, 0.8709432419491007, 0.8709432419491007, 0.8709432419491007, 0.8709432419491007, 0.8709432419491007, 0.8741735322599172, 0.8741735322599172, 0.8741735322599172, 0.8741735322599172, 0.8741735322599172, 0.8741735322599172, 0.8741735322599172, 0.8741735322599172, 0.88521851602033]}], \"AUC_weighted\": [{\"categories\": [\"0\", \"4\", \"9\", \"16\", \"21\", \"22\", \"23\", \"24\", \"25\", \"27\", \"28\", \"29\", \"30\", \"31\", \"32\", \"33\", \"34\", \"37\"], \"mode\": \"markers\", \"name\": \"AUC_weighted\", \"stepped\": false, \"type\": \"scatter\", \"data\": [0.9271278077850527, 0.9328370110463732, 0.930605931240098, 0.9259316640404422, 0.9261687796481721, 0.9213558670031944, 0.9263534068929647, 0.9245939621326297, 0.6874687129548596, 0.9330382568164556, 0.9310664218184599, 0.9223424217525658, 0.5, 0.9224670277358002, 0.9319056339022144, 0.9276468021662024, 0.9166465893367917, 0.938042169713883]}, {\"categories\": [\"0\", \"4\", \"9\", \"16\", \"21\", \"22\", \"23\", \"24\", \"25\", \"27\", \"28\", \"29\", \"30\", \"31\", \"32\", \"33\", \"34\", \"37\"], \"mode\": \"lines\", \"name\": \"AUC_weighted_max\", \"stepped\": true, \"type\": \"scatter\", \"data\": [0.9271278077850527, 0.9328370110463732, 0.9328370110463732, 0.9328370110463732, 0.9328370110463732, 0.9328370110463732, 0.9328370110463732, 0.9328370110463732, 0.9328370110463732, 0.9330382568164556, 0.9330382568164556, 0.9330382568164556, 0.9330382568164556, 0.9330382568164556, 0.9330382568164556, 0.9330382568164556, 0.9330382568164556, 0.938042169713883]}], \"precision_score_macro\": [{\"categories\": [\"0\", \"4\", \"9\", \"16\", \"21\", \"22\", \"23\", \"24\", \"25\", \"27\", \"28\", \"29\", \"30\", \"31\", \"32\", \"33\", \"34\", \"37\"], \"mode\": \"markers\", \"name\": \"precision_score_macro\", \"stepped\": false, \"type\": \"scatter\", \"data\": [0.8615995052741626, 0.871311462737056, 0.8725818398554301, 0.8667999938689517, 0.860669111028073, 0.8659065324079747, 0.8659650858914114, 0.85704109796456, 0.621672188129393, 0.8766151382267626, 0.8669767913644655, 0.8519605936330616, 0.27674390826564743, 0.8615539781055561, 0.8709761631610572, 0.8573493681572986, 0.8524543868670591, 0.8879636442164438]}, {\"categories\": [\"0\", \"4\", \"9\", \"16\", \"21\", \"22\", \"23\", \"24\", \"25\", \"27\", \"28\", \"29\", \"30\", \"31\", \"32\", \"33\", \"34\", \"37\"], \"mode\": \"lines\", \"name\": \"precision_score_macro_max\", \"stepped\": true, \"type\": \"scatter\", \"data\": [0.8615995052741626, 0.871311462737056, 0.8725818398554301, 0.8725818398554301, 0.8725818398554301, 0.8725818398554301, 0.8725818398554301, 0.8725818398554301, 0.8725818398554301, 0.8766151382267626, 0.8766151382267626, 0.8766151382267626, 0.8766151382267626, 0.8766151382267626, 0.8766151382267626, 0.8766151382267626, 0.8766151382267626, 0.8879636442164438]}], \"recall_score_micro\": [{\"categories\": [\"0\", \"4\", \"9\", \"16\", \"21\", \"22\", \"23\", \"24\", \"25\", \"27\", \"28\", \"29\", \"30\", \"31\", \"32\", \"33\", \"34\", \"37\"], \"mode\": \"markers\", \"name\": \"recall_score_micro\", \"stepped\": false, \"type\": \"scatter\", \"data\": [0.8617176301958912, 0.8682752030578118, 0.8715121834687054, 0.8671524128045867, 0.8606665074056379, 0.8650262780697563, 0.8660774008600096, 0.8530339225991401, 0.6263975155279503, 0.8747730530339226, 0.8573698041089346, 0.851923076923077, 0.5534878165312949, 0.8595317725752508, 0.8704013377926423, 0.8541208791208792, 0.8442307692307693, 0.8856784519827998]}, {\"categories\": [\"0\", \"4\", \"9\", \"16\", \"21\", \"22\", \"23\", \"24\", \"25\", \"27\", \"28\", \"29\", \"30\", \"31\", \"32\", \"33\", \"34\", \"37\"], \"mode\": \"lines\", \"name\": \"recall_score_micro_max\", \"stepped\": true, \"type\": \"scatter\", \"data\": [0.8617176301958912, 0.8682752030578118, 0.8715121834687054, 0.8715121834687054, 0.8715121834687054, 0.8715121834687054, 0.8715121834687054, 0.8715121834687054, 0.8715121834687054, 0.8747730530339226, 0.8747730530339226, 0.8747730530339226, 0.8747730530339226, 0.8747730530339226, 0.8747730530339226, 0.8747730530339226, 0.8747730530339226, 0.8856784519827998]}], \"accuracy\": [{\"categories\": [\"0\", \"4\", \"9\", \"16\", \"21\", \"22\", \"23\", \"24\", \"25\", \"27\", \"28\", \"29\", \"30\", \"31\", \"32\", \"33\", \"34\", \"37\"], \"mode\": \"markers\", \"name\": \"accuracy\", \"stepped\": false, \"type\": \"scatter\", \"data\": [0.8617176301958912, 0.8682752030578118, 0.8715121834687054, 0.8671524128045867, 0.8606665074056379, 0.8650262780697563, 0.8660774008600096, 0.8530339225991401, 0.6263975155279503, 0.8747730530339226, 0.8573698041089346, 0.851923076923077, 0.5534878165312949, 0.8595317725752508, 0.8704013377926423, 0.8541208791208792, 0.8442307692307693, 0.8856784519827998]}, {\"categories\": [\"0\", \"4\", \"9\", \"16\", \"21\", \"22\", \"23\", \"24\", \"25\", \"27\", \"28\", \"29\", \"30\", \"31\", \"32\", \"33\", \"34\", \"37\"], \"mode\": \"lines\", \"name\": \"accuracy_max\", \"stepped\": true, \"type\": \"scatter\", \"data\": [0.8617176301958912, 0.8682752030578118, 0.8715121834687054, 0.8715121834687054, 0.8715121834687054, 0.8715121834687054, 0.8715121834687054, 0.8715121834687054, 0.8715121834687054, 0.8747730530339226, 0.8747730530339226, 0.8747730530339226, 0.8747730530339226, 0.8747730530339226, 0.8747730530339226, 0.8747730530339226, 0.8747730530339226, 0.8856784519827998]}], \"log_loss\": [{\"categories\": [\"0\", \"4\", \"9\", \"16\", \"21\", \"22\", \"23\", \"24\", \"25\", \"27\", \"28\", \"29\", \"30\", \"31\", \"32\", \"33\", \"34\", \"37\"], \"mode\": \"markers\", \"name\": \"log_loss\", \"stepped\": false, \"type\": \"scatter\", \"data\": [0.3944226690258212, 0.34865518647889304, 0.3299559807183525, 0.34087891820574695, 0.34092362394829534, 0.35980943690077644, 0.3401125059140536, 0.35994392777263745, 0.6340088843927527, 0.32586001085378036, 0.49627450330706635, 0.38118458243280756, 0.6882708511112103, 0.7480633751664649, 0.3294960963317313, 0.453422568055872, 0.5008739160125447, 0.33203246226719935]}, {\"categories\": [\"0\", \"4\", \"9\", \"16\", \"21\", \"22\", \"23\", \"24\", \"25\", \"27\", \"28\", \"29\", \"30\", \"31\", \"32\", \"33\", \"34\", \"37\"], \"mode\": \"lines\", \"name\": \"log_loss_min\", \"stepped\": true, \"type\": \"scatter\", \"data\": [0.3944226690258212, 0.34865518647889304, 0.3299559807183525, 0.3299559807183525, 0.3299559807183525, 0.3299559807183525, 0.3299559807183525, 0.3299559807183525, 0.3299559807183525, 0.32586001085378036, 0.32586001085378036, 0.32586001085378036, 0.32586001085378036, 0.32586001085378036, 0.32586001085378036, 0.32586001085378036, 0.32586001085378036, 0.32586001085378036]}], \"recall_score_macro\": [{\"categories\": [\"0\", \"4\", \"9\", \"16\", \"21\", \"22\", \"23\", \"24\", \"25\", \"27\", \"28\", \"29\", \"30\", \"31\", \"32\", \"33\", \"34\", \"37\"], \"mode\": \"markers\", \"name\": \"recall_score_macro\", \"stepped\": false, \"type\": \"scatter\", \"data\": [0.8565522854353436, 0.8618319281209675, 0.8662137582550983, 0.8636119949780673, 0.8564748704332177, 0.860267703986383, 0.8626200972708349, 0.8454814426493076, 0.6135731732727603, 0.8692152400968624, 0.8480821057686125, 0.8476176519871046, 0.5, 0.8549550380439234, 0.8661007642732315, 0.8474526234584353, 0.8344089932758635, 0.8806174015512603]}, {\"categories\": [\"0\", \"4\", \"9\", \"16\", \"21\", \"22\", \"23\", \"24\", \"25\", \"27\", \"28\", \"29\", \"30\", \"31\", \"32\", \"33\", \"34\", \"37\"], \"mode\": \"lines\", \"name\": \"recall_score_macro_max\", \"stepped\": true, \"type\": \"scatter\", \"data\": [0.8565522854353436, 0.8618319281209675, 0.8662137582550983, 0.8662137582550983, 0.8662137582550983, 0.8662137582550983, 0.8662137582550983, 0.8662137582550983, 0.8662137582550983, 0.8692152400968624, 0.8692152400968624, 0.8692152400968624, 0.8692152400968624, 0.8692152400968624, 0.8692152400968624, 0.8692152400968624, 0.8692152400968624, 0.8806174015512603]}], \"matthews_correlation\": [{\"categories\": [\"0\", \"4\", \"9\", \"16\", \"21\", \"22\", \"23\", \"24\", \"25\", \"27\", \"28\", \"29\", \"30\", \"31\", \"32\", \"33\", \"34\", \"37\"], \"mode\": \"markers\", \"name\": \"matthews_correlation\", \"stepped\": false, \"type\": \"scatter\", \"data\": [0.7181098967057135, 0.7330310095709424, 0.7387386287813966, 0.7303804882059365, 0.7171226314083194, 0.7261292750946888, 0.7285558616119056, 0.7023654491278312, 0.23482712738640776, 0.745751701295698, 0.7147265234715824, 0.6994997477909326, 0.0, 0.7164255983452703, 0.7370368350790739, 0.7046971553321445, 0.6865213431744818, 0.7685050192233843]}, {\"categories\": [\"0\", \"4\", \"9\", \"16\", \"21\", \"22\", \"23\", \"24\", \"25\", \"27\", \"28\", \"29\", \"30\", \"31\", \"32\", \"33\", \"34\", \"37\"], \"mode\": \"lines\", \"name\": \"matthews_correlation_max\", \"stepped\": true, \"type\": \"scatter\", \"data\": [0.7181098967057135, 0.7330310095709424, 0.7387386287813966, 0.7387386287813966, 0.7387386287813966, 0.7387386287813966, 0.7387386287813966, 0.7387386287813966, 0.7387386287813966, 0.745751701295698, 0.745751701295698, 0.745751701295698, 0.745751701295698, 0.745751701295698, 0.745751701295698, 0.745751701295698, 0.745751701295698, 0.7685050192233843]}], \"average_precision_score_micro\": [{\"categories\": [\"0\", \"4\", \"9\", \"16\", \"21\", \"22\", \"23\", \"24\", \"25\", \"27\", \"28\", \"29\", \"30\", \"31\", \"32\", \"33\", \"34\", \"37\"], \"mode\": \"markers\", \"name\": \"average_precision_score_micro\", \"stepped\": false, \"type\": \"scatter\", \"data\": [0.9271698576086373, 0.9313948364517091, 0.9301933679564186, 0.9271720624459288, 0.9235167165763494, 0.9212193797781051, 0.9279236065856304, 0.922390098213336, 0.673411370763419, 0.9325726490224195, 0.9184191432160338, 0.9233217287708747, 0.5313831523593879, 0.9168564664186694, 0.9323648927601382, 0.9201611296323223, 0.90760647014647, 0.9382772499837104]}, {\"categories\": [\"0\", \"4\", \"9\", \"16\", \"21\", \"22\", \"23\", \"24\", \"25\", \"27\", \"28\", \"29\", \"30\", \"31\", \"32\", \"33\", \"34\", \"37\"], \"mode\": \"lines\", \"name\": \"average_precision_score_micro_max\", \"stepped\": true, \"type\": \"scatter\", \"data\": [0.9271698576086373, 0.9313948364517091, 0.9313948364517091, 0.9313948364517091, 0.9313948364517091, 0.9313948364517091, 0.9313948364517091, 0.9313948364517091, 0.9313948364517091, 0.9325726490224195, 0.9325726490224195, 0.9325726490224195, 0.9325726490224195, 0.9325726490224195, 0.9325726490224195, 0.9325726490224195, 0.9325726490224195, 0.9382772499837104]}], \"AUC_macro\": [{\"categories\": [\"0\", \"4\", \"9\", \"16\", \"21\", \"22\", \"23\", \"24\", \"25\", \"27\", \"28\", \"29\", \"30\", \"31\", \"32\", \"33\", \"34\", \"37\"], \"mode\": \"markers\", \"name\": \"AUC_macro\", \"stepped\": false, \"type\": \"scatter\", \"data\": [0.9271278077850527, 0.9328370110463732, 0.930605931240098, 0.9259316640404421, 0.9261687796481721, 0.9213558670031944, 0.9263534068929647, 0.9245939621326297, 0.6874687129548596, 0.9330382568164556, 0.9310664218184599, 0.9223424217525658, 0.5, 0.9224670277358005, 0.9319056339022144, 0.9276468021662024, 0.9166465893367917, 0.938042169713883]}, {\"categories\": [\"0\", \"4\", \"9\", \"16\", \"21\", \"22\", \"23\", \"24\", \"25\", \"27\", \"28\", \"29\", \"30\", \"31\", \"32\", \"33\", \"34\", \"37\"], \"mode\": \"lines\", \"name\": \"AUC_macro_max\", \"stepped\": true, \"type\": \"scatter\", \"data\": [0.9271278077850527, 0.9328370110463732, 0.9328370110463732, 0.9328370110463732, 0.9328370110463732, 0.9328370110463732, 0.9328370110463732, 0.9328370110463732, 0.9328370110463732, 0.9330382568164556, 0.9330382568164556, 0.9330382568164556, 0.9330382568164556, 0.9330382568164556, 0.9330382568164556, 0.9330382568164556, 0.9330382568164556, 0.938042169713883]}], \"precision_score_micro\": [{\"categories\": [\"0\", \"4\", \"9\", \"16\", \"21\", \"22\", \"23\", \"24\", \"25\", \"27\", \"28\", \"29\", \"30\", \"31\", \"32\", \"33\", \"34\", \"37\"], \"mode\": \"markers\", \"name\": \"precision_score_micro\", \"stepped\": false, \"type\": \"scatter\", \"data\": [0.8617176301958912, 0.8682752030578118, 0.8715121834687054, 0.8671524128045867, 0.8606665074056379, 0.8650262780697563, 0.8660774008600096, 0.8530339225991401, 0.6263975155279503, 0.8747730530339226, 0.8573698041089346, 0.851923076923077, 0.5534878165312949, 0.8595317725752508, 0.8704013377926423, 0.8541208791208792, 0.8442307692307693, 0.8856784519827998]}, {\"categories\": [\"0\", \"4\", \"9\", \"16\", \"21\", \"22\", \"23\", \"24\", \"25\", \"27\", \"28\", \"29\", \"30\", \"31\", \"32\", \"33\", \"34\", \"37\"], \"mode\": \"lines\", \"name\": \"precision_score_micro_max\", \"stepped\": true, \"type\": \"scatter\", \"data\": [0.8617176301958912, 0.8682752030578118, 0.8715121834687054, 0.8715121834687054, 0.8715121834687054, 0.8715121834687054, 0.8715121834687054, 0.8715121834687054, 0.8715121834687054, 0.8747730530339226, 0.8747730530339226, 0.8747730530339226, 0.8747730530339226, 0.8747730530339226, 0.8747730530339226, 0.8747730530339226, 0.8747730530339226, 0.8856784519827998]}], \"average_precision_score_weighted\": [{\"categories\": [\"0\", \"4\", \"9\", \"16\", \"21\", \"22\", \"23\", \"24\", \"25\", \"27\", \"28\", \"29\", \"30\", \"31\", \"32\", \"33\", \"34\", \"37\"], \"mode\": \"markers\", \"name\": \"average_precision_score_weighted\", \"stepped\": false, \"type\": \"scatter\", \"data\": [0.9266561121622987, 0.9327414326799124, 0.929420921203071, 0.9271334109183395, 0.9250946639260318, 0.9218099295260117, 0.928229012135233, 0.9250090488058023, 0.6593917980457613, 0.9325785657956585, 0.9313512122028758, 0.924477466722713, 0.5092784881874809, 0.9174170533415585, 0.9333260093664357, 0.9265965333504809, 0.9185401014150927, 0.9390039204476424]}, {\"categories\": [\"0\", \"4\", \"9\", \"16\", \"21\", \"22\", \"23\", \"24\", \"25\", \"27\", \"28\", \"29\", \"30\", \"31\", \"32\", \"33\", \"34\", \"37\"], \"mode\": \"lines\", \"name\": \"average_precision_score_weighted_max\", \"stepped\": true, \"type\": \"scatter\", \"data\": [0.9266561121622987, 0.9327414326799124, 0.9327414326799124, 0.9327414326799124, 0.9327414326799124, 0.9327414326799124, 0.9327414326799124, 0.9327414326799124, 0.9327414326799124, 0.9327414326799124, 0.9327414326799124, 0.9327414326799124, 0.9327414326799124, 0.9327414326799124, 0.9333260093664357, 0.9333260093664357, 0.9333260093664357, 0.9390039204476424]}], \"recall_score_weighted\": [{\"categories\": [\"0\", \"4\", \"9\", \"16\", \"21\", \"22\", \"23\", \"24\", \"25\", \"27\", \"28\", \"29\", \"30\", \"31\", \"32\", \"33\", \"34\", \"37\"], \"mode\": \"markers\", \"name\": \"recall_score_weighted\", \"stepped\": false, \"type\": \"scatter\", \"data\": [0.8617176301958912, 0.8682752030578118, 0.8715121834687054, 0.8671524128045867, 0.8606665074056379, 0.8650262780697563, 0.8660774008600096, 0.8530339225991401, 0.6263975155279503, 0.8747730530339226, 0.8573698041089346, 0.851923076923077, 0.5534878165312949, 0.8595317725752508, 0.8704013377926423, 0.8541208791208792, 0.8442307692307693, 0.8856784519827998]}, {\"categories\": [\"0\", \"4\", \"9\", \"16\", \"21\", \"22\", \"23\", \"24\", \"25\", \"27\", \"28\", \"29\", \"30\", \"31\", \"32\", \"33\", \"34\", \"37\"], \"mode\": \"lines\", \"name\": \"recall_score_weighted_max\", \"stepped\": true, \"type\": \"scatter\", \"data\": [0.8617176301958912, 0.8682752030578118, 0.8715121834687054, 0.8715121834687054, 0.8715121834687054, 0.8715121834687054, 0.8715121834687054, 0.8715121834687054, 0.8715121834687054, 0.8747730530339226, 0.8747730530339226, 0.8747730530339226, 0.8747730530339226, 0.8747730530339226, 0.8747730530339226, 0.8747730530339226, 0.8747730530339226, 0.8856784519827998]}], \"f1_score_micro\": [{\"categories\": [\"0\", \"4\", \"9\", \"16\", \"21\", \"22\", \"23\", \"24\", \"25\", \"27\", \"28\", \"29\", \"30\", \"31\", \"32\", \"33\", \"34\", \"37\"], \"mode\": \"markers\", \"name\": \"f1_score_micro\", \"stepped\": false, \"type\": \"scatter\", \"data\": [0.8617176301958912, 0.8682752030578118, 0.8715121834687054, 0.8671524128045869, 0.860666507405638, 0.8650262780697563, 0.8660774008600096, 0.8530339225991401, 0.6263975155279503, 0.8747730530339227, 0.8573698041089346, 0.851923076923077, 0.5534878165312949, 0.859531772575251, 0.8704013377926423, 0.8541208791208792, 0.8442307692307693, 0.8856784519827998]}, {\"categories\": [\"0\", \"4\", \"9\", \"16\", \"21\", \"22\", \"23\", \"24\", \"25\", \"27\", \"28\", \"29\", \"30\", \"31\", \"32\", \"33\", \"34\", \"37\"], \"mode\": \"lines\", \"name\": \"f1_score_micro_max\", \"stepped\": true, \"type\": \"scatter\", \"data\": [0.8617176301958912, 0.8682752030578118, 0.8715121834687054, 0.8715121834687054, 0.8715121834687054, 0.8715121834687054, 0.8715121834687054, 0.8715121834687054, 0.8715121834687054, 0.8747730530339227, 0.8747730530339227, 0.8747730530339227, 0.8747730530339227, 0.8747730530339227, 0.8747730530339227, 0.8747730530339227, 0.8747730530339227, 0.8856784519827998]}], \"weighted_accuracy\": [{\"categories\": [\"0\", \"4\", \"9\", \"16\", \"21\", \"22\", \"23\", \"24\", \"25\", \"27\", \"28\", \"29\", \"30\", \"31\", \"32\", \"33\", \"34\", \"37\"], \"mode\": \"markers\", \"name\": \"weighted_accuracy\", \"stepped\": false, \"type\": \"scatter\", \"data\": [0.8664800928636428, 0.8742600005484855, 0.8763764241697478, 0.8704567247095607, 0.8645524810232734, 0.8694625497243258, 0.8692882938735542, 0.860087293681268, 0.6383554011613752, 0.8799612837007338, 0.8660156608724566, 0.855976983406072, 0.6035997036169126, 0.8638061303547959, 0.8743971591627314, 0.860337398983227, 0.853455683287675, 0.8904092727048954]}, {\"categories\": [\"0\", \"4\", \"9\", \"16\", \"21\", \"22\", \"23\", \"24\", \"25\", \"27\", \"28\", \"29\", \"30\", \"31\", \"32\", \"33\", \"34\", \"37\"], \"mode\": \"lines\", \"name\": \"weighted_accuracy_max\", \"stepped\": true, \"type\": \"scatter\", \"data\": [0.8664800928636428, 0.8742600005484855, 0.8763764241697478, 0.8763764241697478, 0.8763764241697478, 0.8763764241697478, 0.8763764241697478, 0.8763764241697478, 0.8763764241697478, 0.8799612837007338, 0.8799612837007338, 0.8799612837007338, 0.8799612837007338, 0.8799612837007338, 0.8799612837007338, 0.8799612837007338, 0.8799612837007338, 0.8904092727048954]}], \"precision_score_weighted\": [{\"categories\": [\"0\", \"4\", \"9\", \"16\", \"21\", \"22\", \"23\", \"24\", \"25\", \"27\", \"28\", \"29\", \"30\", \"31\", \"32\", \"33\", \"34\", \"37\"], \"mode\": \"markers\", \"name\": \"precision_score_weighted\", \"stepped\": false, \"type\": \"scatter\", \"data\": [0.862038261107819, 0.8704735157118924, 0.8729148844549129, 0.8683226297031619, 0.8616652736956356, 0.8661808620237101, 0.8673837159151085, 0.8562346359228051, 0.6273435710113981, 0.8763294482321238, 0.8643221676247446, 0.8534510870058633, 0.30812706062503525, 0.8623825192314551, 0.8718016841929923, 0.8567462346230797, 0.8506049592239602, 0.8873061514940673]}, {\"categories\": [\"0\", \"4\", \"9\", \"16\", \"21\", \"22\", \"23\", \"24\", \"25\", \"27\", \"28\", \"29\", \"30\", \"31\", \"32\", \"33\", \"34\", \"37\"], \"mode\": \"lines\", \"name\": \"precision_score_weighted_max\", \"stepped\": true, \"type\": \"scatter\", \"data\": [0.862038261107819, 0.8704735157118924, 0.8729148844549129, 0.8729148844549129, 0.8729148844549129, 0.8729148844549129, 0.8729148844549129, 0.8729148844549129, 0.8729148844549129, 0.8763294482321238, 0.8763294482321238, 0.8763294482321238, 0.8763294482321238, 0.8763294482321238, 0.8763294482321238, 0.8763294482321238, 0.8763294482321238, 0.8873061514940673]}], \"balanced_accuracy\": [{\"categories\": [\"0\", \"4\", \"9\", \"16\", \"21\", \"22\", \"23\", \"24\", \"25\", \"27\", \"28\", \"29\", \"30\", \"31\", \"32\", \"33\", \"34\", \"37\"], \"mode\": \"markers\", \"name\": \"balanced_accuracy\", \"stepped\": false, \"type\": \"scatter\", \"data\": [0.8565522854353436, 0.8618319281209675, 0.8662137582550983, 0.8636119949780673, 0.8564748704332177, 0.860267703986383, 0.8626200972708349, 0.8454814426493076, 0.6135731732727603, 0.8692152400968624, 0.8480821057686125, 0.8476176519871046, 0.5, 0.8549550380439234, 0.8661007642732315, 0.8474526234584353, 0.8344089932758635, 0.8806174015512603]}, {\"categories\": [\"0\", \"4\", \"9\", \"16\", \"21\", \"22\", \"23\", \"24\", \"25\", \"27\", \"28\", \"29\", \"30\", \"31\", \"32\", \"33\", \"34\", \"37\"], \"mode\": \"lines\", \"name\": \"balanced_accuracy_max\", \"stepped\": true, \"type\": \"scatter\", \"data\": [0.8565522854353436, 0.8618319281209675, 0.8662137582550983, 0.8662137582550983, 0.8662137582550983, 0.8662137582550983, 0.8662137582550983, 0.8662137582550983, 0.8662137582550983, 0.8692152400968624, 0.8692152400968624, 0.8692152400968624, 0.8692152400968624, 0.8692152400968624, 0.8692152400968624, 0.8692152400968624, 0.8692152400968624, 0.8806174015512603]}], \"norm_macro_recall\": [{\"categories\": [\"0\", \"4\", \"9\", \"16\", \"21\", \"22\", \"23\", \"24\", \"25\", \"27\", \"28\", \"29\", \"30\", \"31\", \"32\", \"33\", \"34\", \"37\"], \"mode\": \"markers\", \"name\": \"norm_macro_recall\", \"stepped\": false, \"type\": \"scatter\", \"data\": [0.7131045708706872, 0.7236638562419351, 0.7324275165101966, 0.7272239899561346, 0.7129497408664355, 0.720535407972766, 0.7252401945416695, 0.690962885298615, 0.22714634654552052, 0.7384304801937249, 0.696164211537225, 0.6952353039742094, 0.0, 0.7099100760878467, 0.7322015285464629, 0.6949052469168704, 0.668817986551727, 0.7612348031025207]}, {\"categories\": [\"0\", \"4\", \"9\", \"16\", \"21\", \"22\", \"23\", \"24\", \"25\", \"27\", \"28\", \"29\", \"30\", \"31\", \"32\", \"33\", \"34\", \"37\"], \"mode\": \"lines\", \"name\": \"norm_macro_recall_max\", \"stepped\": true, \"type\": \"scatter\", \"data\": [0.7131045708706872, 0.7236638562419351, 0.7324275165101966, 0.7324275165101966, 0.7324275165101966, 0.7324275165101966, 0.7324275165101966, 0.7324275165101966, 0.7324275165101966, 0.7384304801937249, 0.7384304801937249, 0.7384304801937249, 0.7384304801937249, 0.7384304801937249, 0.7384304801937249, 0.7384304801937249, 0.7384304801937249, 0.7612348031025207]}], \"average_precision_score_macro\": [{\"categories\": [\"0\", \"4\", \"9\", \"16\", \"21\", \"22\", \"23\", \"24\", \"25\", \"27\", \"28\", \"29\", \"30\", \"31\", \"32\", \"33\", \"34\", \"37\"], \"mode\": \"markers\", \"name\": \"average_precision_score_macro\", \"stepped\": false, \"type\": \"scatter\", \"data\": [0.9256741585229387, 0.9312977610193325, 0.9284656271246019, 0.9252522357585597, 0.9241855097133364, 0.919757064926357, 0.9264876085338042, 0.9231445516788991, 0.6499005089257535, 0.9315472242529562, 0.9297480254186741, 0.9229696804679989, 0.5, 0.9154875795298384, 0.9319500383092564, 0.9245073318723975, 0.9167170623647951, 0.9376600020767656]}, {\"categories\": [\"0\", \"4\", \"9\", \"16\", \"21\", \"22\", \"23\", \"24\", \"25\", \"27\", \"28\", \"29\", \"30\", \"31\", \"32\", \"33\", \"34\", \"37\"], \"mode\": \"lines\", \"name\": \"average_precision_score_macro_max\", \"stepped\": true, \"type\": \"scatter\", \"data\": [0.9256741585229387, 0.9312977610193325, 0.9312977610193325, 0.9312977610193325, 0.9312977610193325, 0.9312977610193325, 0.9312977610193325, 0.9312977610193325, 0.9312977610193325, 0.9315472242529562, 0.9315472242529562, 0.9315472242529562, 0.9315472242529562, 0.9315472242529562, 0.9319500383092564, 0.9319500383092564, 0.9319500383092564, 0.9376600020767656]}], \"f1_score_macro\": [{\"categories\": [\"0\", \"4\", \"9\", \"16\", \"21\", \"22\", \"23\", \"24\", \"25\", \"27\", \"28\", \"29\", \"30\", \"31\", \"32\", \"33\", \"34\", \"37\"], \"mode\": \"markers\", \"name\": \"f1_score_macro\", \"stepped\": false, \"type\": \"scatter\", \"data\": [0.8584289060611603, 0.8646629092176044, 0.86807776046503, 0.8643609116783241, 0.8577329923658409, 0.8620236516157413, 0.8633542243529693, 0.8483641114782268, 0.6098334499036844, 0.8714750213102676, 0.8520651713696639, 0.8485354733740428, 0.3558125879368522, 0.8561910355510532, 0.8674523187765978, 0.850114608853661, 0.8379613167272859, 0.8829570676199658]}, {\"categories\": [\"0\", \"4\", \"9\", \"16\", \"21\", \"22\", \"23\", \"24\", \"25\", \"27\", \"28\", \"29\", \"30\", \"31\", \"32\", \"33\", \"34\", \"37\"], \"mode\": \"lines\", \"name\": \"f1_score_macro_max\", \"stepped\": true, \"type\": \"scatter\", \"data\": [0.8584289060611603, 0.8646629092176044, 0.86807776046503, 0.86807776046503, 0.86807776046503, 0.86807776046503, 0.86807776046503, 0.86807776046503, 0.86807776046503, 0.8714750213102676, 0.8714750213102676, 0.8714750213102676, 0.8714750213102676, 0.8714750213102676, 0.8714750213102676, 0.8714750213102676, 0.8714750213102676, 0.8829570676199658]}]}, \"metricName\": null, \"primaryMetricName\": \"accuracy\", \"showLegend\": false}, \"run_metrics\": [{\"name\": \"experiment_status\", \"run_id\": \"AutoML_599542d2-268a-4a5e-8df5-d4610c57a680\", \"categories\": [0, 1, 2, 3, 4, 5, 6, 7, 8, 9, 10, 11, 12, 13], \"series\": [{\"data\": [\"DatasetEvaluation\", \"FeaturesGeneration\", \"DatasetFeaturization\", \"DatasetFeaturizationCompleted\", \"DatasetCrossValidationSplit\", \"ModelSelection\", \"BestRunExplainModel\", \"ModelExplanationDataSetSetup\", \"PickSurrogateModel\", \"EngineeredFeatureExplanations\", \"EngineeredFeatureExplanations\", \"RawFeaturesExplanations\", \"RawFeaturesExplanations\", \"BestRunExplainModel\"]}]}, {\"name\": \"experiment_status_description\", \"run_id\": \"AutoML_599542d2-268a-4a5e-8df5-d4610c57a680\", \"categories\": [0, 1, 2, 3, 4, 5, 6, 7, 8, 9, 10, 11, 12, 13], \"series\": [{\"data\": [\"Gathering dataset statistics.\", \"Generating features for the dataset.\", \"Beginning to fit featurizers and featurize the dataset.\", \"Completed fit featurizers and featurizing the dataset.\", \"Generating individually featurized CV splits.\", \"Beginning model selection.\", \"Best run model explanations started\", \"Model explanations data setup completed\", \"Choosing LightGBM as the surrogate model for explanations\", \"Computation of engineered features started\", \"Computation of engineered features completed\", \"Computation of raw features started\", \"Computation of raw features completed\", \"Best run model explanations completed\"]}]}, {\"name\": \"weighted_accuracy\", \"run_id\": \"AutoML_599542d2-268a-4a5e-8df5-d4610c57a680\", \"categories\": [0], \"series\": [{\"data\": [0.8904092727048954]}]}, {\"name\": \"AUC_weighted\", \"run_id\": \"AutoML_599542d2-268a-4a5e-8df5-d4610c57a680\", \"categories\": [0], \"series\": [{\"data\": [0.938042169713883]}]}, {\"name\": \"average_precision_score_weighted\", \"run_id\": \"AutoML_599542d2-268a-4a5e-8df5-d4610c57a680\", \"categories\": [0], \"series\": [{\"data\": [0.9390039204476424]}]}, {\"name\": \"AUC_micro\", \"run_id\": \"AutoML_599542d2-268a-4a5e-8df5-d4610c57a680\", \"categories\": [0], \"series\": [{\"data\": [0.9396400410646916]}]}, {\"name\": \"f1_score_macro\", \"run_id\": \"AutoML_599542d2-268a-4a5e-8df5-d4610c57a680\", \"categories\": [0], \"series\": [{\"data\": [0.8829570676199658]}]}, {\"name\": \"f1_score_weighted\", \"run_id\": \"AutoML_599542d2-268a-4a5e-8df5-d4610c57a680\", \"categories\": [0], \"series\": [{\"data\": [0.88521851602033]}]}, {\"name\": \"average_precision_score_micro\", \"run_id\": \"AutoML_599542d2-268a-4a5e-8df5-d4610c57a680\", \"categories\": [0], \"series\": [{\"data\": [0.9382772499837104]}]}, {\"name\": \"precision_score_micro\", \"run_id\": \"AutoML_599542d2-268a-4a5e-8df5-d4610c57a680\", \"categories\": [0], \"series\": [{\"data\": [0.8856784519827998]}]}, {\"name\": \"precision_score_macro\", \"run_id\": \"AutoML_599542d2-268a-4a5e-8df5-d4610c57a680\", \"categories\": [0], \"series\": [{\"data\": [0.8879636442164438]}]}, {\"name\": \"accuracy\", \"run_id\": \"AutoML_599542d2-268a-4a5e-8df5-d4610c57a680\", \"categories\": [0], \"series\": [{\"data\": [0.8856784519827998]}]}, {\"name\": \"average_precision_score_macro\", \"run_id\": \"AutoML_599542d2-268a-4a5e-8df5-d4610c57a680\", \"categories\": [0], \"series\": [{\"data\": [0.9376600020767656]}]}, {\"name\": \"recall_score_macro\", \"run_id\": \"AutoML_599542d2-268a-4a5e-8df5-d4610c57a680\", \"categories\": [0], \"series\": [{\"data\": [0.8806174015512603]}]}, {\"name\": \"recall_score_weighted\", \"run_id\": \"AutoML_599542d2-268a-4a5e-8df5-d4610c57a680\", \"categories\": [0], \"series\": [{\"data\": [0.8856784519827998]}]}, {\"name\": \"log_loss\", \"run_id\": \"AutoML_599542d2-268a-4a5e-8df5-d4610c57a680\", \"categories\": [0], \"series\": [{\"data\": [0.33203246226719935]}]}, {\"name\": \"recall_score_micro\", \"run_id\": \"AutoML_599542d2-268a-4a5e-8df5-d4610c57a680\", \"categories\": [0], \"series\": [{\"data\": [0.8856784519827998]}]}, {\"name\": \"matthews_correlation\", \"run_id\": \"AutoML_599542d2-268a-4a5e-8df5-d4610c57a680\", \"categories\": [0], \"series\": [{\"data\": [0.7685050192233843]}]}, {\"name\": \"precision_score_weighted\", \"run_id\": \"AutoML_599542d2-268a-4a5e-8df5-d4610c57a680\", \"categories\": [0], \"series\": [{\"data\": [0.8873061514940673]}]}, {\"name\": \"f1_score_micro\", \"run_id\": \"AutoML_599542d2-268a-4a5e-8df5-d4610c57a680\", \"categories\": [0], \"series\": [{\"data\": [0.8856784519827998]}]}, {\"name\": \"norm_macro_recall\", \"run_id\": \"AutoML_599542d2-268a-4a5e-8df5-d4610c57a680\", \"categories\": [0], \"series\": [{\"data\": [0.7612348031025207]}]}, {\"name\": \"AUC_macro\", \"run_id\": \"AutoML_599542d2-268a-4a5e-8df5-d4610c57a680\", \"categories\": [0], \"series\": [{\"data\": [0.938042169713883]}]}, {\"name\": \"balanced_accuracy\", \"run_id\": \"AutoML_599542d2-268a-4a5e-8df5-d4610c57a680\", \"categories\": [0], \"series\": [{\"data\": [0.8806174015512603]}]}], \"run_logs\": \"\\nRun is completed.\", \"graph\": {}, \"widget_settings\": {\"childWidgetDisplay\": \"popup\", \"send_telemetry\": false, \"log_level\": \"INFO\", \"sdk_version\": \"1.47.0\"}, \"loading\": false}"
          },
          "metadata": {}
        }
      ],
      "execution_count": 22,
      "metadata": {
        "gather": {
          "logged": 1675497982866
        },
        "jupyter": {
          "outputs_hidden": false,
          "source_hidden": false
        },
        "nteract": {
          "transient": {
            "deleting": false
          }
        }
      }
    },
    {
      "cell_type": "markdown",
      "source": [
        "## Best Model\n",
        "\n",
        "TODO: In the cell below, get the best model from the automl experiments and display all the properties of the model.\n",
        "\n"
      ],
      "metadata": {}
    },
    {
      "cell_type": "code",
      "source": [
        "best_run, fitted_model = automl_run.get_output()\n",
        "print(best_run)\n",
        "best_run_metrics = best_run.get_metrics()\n",
        "print('Best Run Id: ', best_run.id)"
      ],
      "outputs": [
        {
          "output_type": "stream",
          "name": "stderr",
          "text": "WARNING:root:The version of the SDK does not match the version the model was trained on.\nWARNING:root:The consistency in the result may not be guaranteed.\nWARNING:root:Package:azureml-automl-core, training version:1.48.0, current version:1.47.0\nPackage:azureml-automl-runtime, training version:1.48.0.post1, current version:1.47.0\nPackage:azureml-core, training version:1.48.0, current version:1.47.0\nPackage:azureml-dataprep, training version:4.8.3, current version:4.5.7\nPackage:azureml-dataprep-rslex, training version:2.15.1, current version:2.11.4\nPackage:azureml-dataset-runtime, training version:1.48.0, current version:1.47.0\nPackage:azureml-defaults, training version:1.48.0, current version:1.47.0\nPackage:azureml-interpret, training version:1.48.0, current version:1.47.0\nPackage:azureml-mlflow, training version:1.48.0, current version:1.47.0\nPackage:azureml-pipeline-core, training version:1.48.0, current version:1.47.0\nPackage:azureml-responsibleai, training version:1.48.0, current version:1.47.0\nPackage:azureml-telemetry, training version:1.48.0, current version:1.47.0\nPackage:azureml-train-automl-client, training version:1.48.0, current version:1.47.0\nPackage:azureml-train-automl-runtime, training version:1.48.0.post1, current version:1.47.0\nPackage:azureml-train-core, training version:1.48.0, current version:1.47.0\nPackage:azureml-train-restclients-hyperdrive, training version:1.48.0, current version:1.47.0\nPackage:azureml-training-tabular, training version:1.48.0, current version:1.47.0\nWARNING:root:Please ensure the version of your local conda dependencies match the version on which your model was trained in order to properly retrieve your model.\n"
        },
        {
          "output_type": "stream",
          "name": "stdout",
          "text": "Run(Experiment: automl-capstone-project,\nId: AutoML_599542d2-268a-4a5e-8df5-d4610c57a680_37,\nType: azureml.scriptrun,\nStatus: Completed)\nBest Run Id:  AutoML_599542d2-268a-4a5e-8df5-d4610c57a680_37\n"
        }
      ],
      "execution_count": 23,
      "metadata": {
        "gather": {
          "logged": 1675498031671
        },
        "jupyter": {
          "outputs_hidden": false,
          "source_hidden": false
        },
        "nteract": {
          "transient": {
            "deleting": false
          }
        }
      }
    },
    {
      "cell_type": "code",
      "source": [
        "print(fitted_model)"
      ],
      "outputs": [
        {
          "output_type": "stream",
          "name": "stdout",
          "text": "Pipeline(memory=None,\n         steps=[('datatransformer',\n                 DataTransformer(enable_dnn=False, enable_feature_sweeping=True, feature_sweeping_config={}, feature_sweeping_timeout=86400, featurization_config=None, force_text_dnn=False, is_cross_validation=True, is_onnx_compatible=False, observer=None, task='classification', working_dir='/mnt/batch/tasks/shared/LS_root/mount...\n                 PreFittedSoftVotingClassifier(classification_labels=array([0, 1]), estimators=[('11', Pipeline(memory=None, steps=[('standardscalerwrapper', StandardScalerWrapper(copy=True, with_mean=False, with_std=False)), ('xgboostclassifier', XGBoostClassifier(booster='gbtree', colsample_bytree=0.6, eta=0.3, gamma=0, max_depth=6, max_leaves=0, n_estimators=10, n_jobs=1, objective='reg:logistic', problem_info=ProblemInfo(gpu_training_param_dict={'processing_unit_type': 'cpu'}), random_state=0, reg_alpha=0.3125, reg_lambda=2.3958333333333335, subsample=1, tree_method='auto'))], verbose=False)), ('27', Pipeline(memory=None, steps=[('sparsenormalizer', Normalizer(copy=True, norm='l2')), ('xgboostclassifier', XGBoostClassifier(booster='gbtree', colsample_bytree=1, eta=0.2, max_depth=3, max_leaves=7, n_estimators=25, n_jobs=1, objective='reg:logistic', problem_info=ProblemInfo(gpu_training_param_dict={'processing_unit_type': 'cpu'}), random_state=0, reg_alpha=1.7708333333333335, reg_lambda=1.875, subsample=0.7, tree_method='auto'))], verbose=False)), ('15', Pipeline(memory=None, steps=[('sparsenormalizer', Normalizer(copy=True, norm='l2')), ('randomforestclassifier', RandomForestClassifier(bootstrap=True, ccp_alpha=0.0, class_weight='balanced', criterion='gini', max_depth=None, max_features='sqrt', max_leaf_nodes=None, max_samples=None, min_impurity_decrease=0.0, min_impurity_split=None, min_samples_leaf=0.01, min_samples_split=0.01, min_weight_fraction_leaf=0.0, n_estimators=100, n_jobs=1, oob_score=True, random_state=None, verbose=0, warm_start=False))], verbose=False)), ('9', Pipeline(memory=None, steps=[('standardscalerwrapper', StandardScalerWrapper(copy=True, with_mean=False, with_std=False)), ('xgboostclassifier', XGBoostClassifier(booster='gbtree', colsample_bytree=0.5, eta=0.5, gamma=0, max_depth=6, max_leaves=3, n_estimators=10, n_jobs=1, objective='reg:logistic', problem_info=ProblemInfo(gpu_training_param_dict={'processing_unit_type': 'cpu'}), random_state=0, reg_alpha=0.7291666666666667, reg_lambda=2.3958333333333335, subsample=0.8, tree_method='auto'))], verbose=False)), ('17', Pipeline(memory=None, steps=[('standardscalerwrapper', StandardScalerWrapper(copy=True, with_mean=False, with_std=False)), ('randomforestclassifier', RandomForestClassifier(bootstrap=False, ccp_alpha=0.0, class_weight=None, criterion='entropy', max_depth=None, max_features=0.1, max_leaf_nodes=None, max_samples=None, min_impurity_decrease=0.0, min_impurity_split=None, min_samples_leaf=0.01, min_samples_split=0.01, min_weight_fraction_leaf=0.0, n_estimators=50, n_jobs=1, oob_score=False, random_state=None, verbose=0, warm_start=False))], verbose=False)), ('16', Pipeline(memory=None, steps=[('standardscalerwrapper', StandardScalerWrapper(copy=True, with_mean=False, with_std=False)), ('logisticregression', LogisticRegression(C=51.79474679231202, class_weight=None, dual=False, fit_intercept=True, intercept_scaling=1, l1_ratio=None, max_iter=100, multi_class='ovr', n_jobs=1, penalty='l2', random_state=None, solver='lbfgs', tol=0.0001, verbose=0, warm_start=False))], verbose=False)), ('19', Pipeline(memory=None, steps=[('truncatedsvdwrapper', TruncatedSVDWrapper(n_components=0.8015789473684211, random_state=None)), ('randomforestclassifier', RandomForestClassifier(bootstrap=False, ccp_alpha=0.0, class_weight='balanced', criterion='entropy', max_depth=None, max_features='sqrt', max_leaf_nodes=None, max_samples=None, min_impurity_decrease=0.0, min_impurity_split=None, min_samples_leaf=0.035789473684210524, min_samples_split=0.15052631578947367, min_weight_fraction_leaf=0.0, n_estimators=100, n_jobs=1, oob_score=False, random_state=None, verbose=0, warm_start=False))], verbose=False))], flatten_transform=None, weights=[0.14285714285714285, 0.14285714285714285, 0.14285714285714285, 0.14285714285714285, 0.14285714285714285, 0.14285714285714285, 0.14285714285714285]))],\n         verbose=False)\n"
        }
      ],
      "execution_count": 24,
      "metadata": {
        "jupyter": {
          "source_hidden": false,
          "outputs_hidden": false
        },
        "nteract": {
          "transient": {
            "deleting": false
          }
        },
        "gather": {
          "logged": 1675498084575
        }
      }
    },
    {
      "cell_type": "code",
      "source": [
        "autoMLmodel = best_run.register_model(model_name='autoML_model', \n",
        "                                    model_path='outputs/model.pkl',\n",
        "                                    tags={'Method':'AutoML'},\n",
        "                                    properties={'accuracy': best_run_metrics['accuracy']})\n",
        "\n",
        "print(autoMLmodel)"
      ],
      "outputs": [
        {
          "output_type": "stream",
          "name": "stdout",
          "text": "Model(workspace=Workspace.create(name='UMRAIMLND', subscription_id='b1d4fcba-3863-40a9-84b1-4b0f82fd16cc', resource_group='rg-UMRDataExternalization-dev'), name=autoML_model, id=autoML_model:2, version=2, tags={'Method': 'AutoML'}, properties={'accuracy': '0.8856784519827998'})\n"
        }
      ],
      "execution_count": 26,
      "metadata": {
        "jupyter": {
          "source_hidden": false,
          "outputs_hidden": false
        },
        "nteract": {
          "transient": {
            "deleting": false
          }
        },
        "gather": {
          "logged": 1675498453400
        }
      }
    },
    {
      "cell_type": "markdown",
      "source": [
        "## Model Deployment\n",
        "\n",
        "Remember you have to deploy only one of the two models you trained but you still need to register both the models. Perform the steps in the rest of this notebook only if you wish to deploy this model.\n",
        "\n",
        "TODO: In the cell below, register the model, create an inference config and deploy the model as a web service."
      ],
      "metadata": {}
    },
    {
      "cell_type": "code",
      "source": [
        "best_run.download_file('outputs/scoring_file_v_1_0_0.py', 'score.py')\r\n",
        "best_run.download_file('outputs/conda_env_v_1_0_0.yml', 'env.yml')\r\n"
      ],
      "outputs": [],
      "execution_count": 27,
      "metadata": {
        "gather": {
          "logged": 1675501003072
        },
        "jupyter": {
          "outputs_hidden": false,
          "source_hidden": false
        },
        "nteract": {
          "transient": {
            "deleting": false
          }
        }
      }
    },
    {
      "cell_type": "code",
      "source": [
        "from azureml.core.webservice import AciWebservice, Webservice\n",
        "from azureml.core.model import InferenceConfig, Model\n",
        "\n",
        "aciconfig = AciWebservice.deploy_configuration(cpu_cores=1, \n",
        "                                               memory_gb=1, \n",
        "                                               description='Predict HeartDisease with AutoML')"
      ],
      "outputs": [],
      "execution_count": 29,
      "metadata": {
        "jupyter": {
          "source_hidden": false,
          "outputs_hidden": false
        },
        "nteract": {
          "transient": {
            "deleting": false
          }
        },
        "gather": {
          "logged": 1675501101607
        }
      }
    },
    {
      "cell_type": "markdown",
      "source": [
        "TODO: In the cell below, send a request to the web service you deployed to test it."
      ],
      "metadata": {
        "collapsed": true,
        "gather": {
          "logged": 1598431657736
        },
        "jupyter": {
          "outputs_hidden": false,
          "source_hidden": false
        },
        "nteract": {
          "transient": {
            "deleting": false
          }
        }
      }
    },
    {
      "cell_type": "code",
      "source": [
        "# Deploy service\r\n",
        "inference_config = InferenceConfig(entry_script=\"score.py\", environment=best_run.get_environment())\r\n",
        "\r\n",
        "service = Model.deploy(workspace=ws, \r\n",
        "                       name='predict-heartdisease-webservice', \r\n",
        "                       models=[autoMLmodel], \r\n",
        "                       inference_config=inference_config, \r\n",
        "                       deployment_config=aciconfig)"
      ],
      "outputs": [],
      "execution_count": 31,
      "metadata": {
        "gather": {
          "logged": 1675501191690
        },
        "jupyter": {
          "outputs_hidden": false,
          "source_hidden": false
        },
        "nteract": {
          "transient": {
            "deleting": false
          }
        }
      }
    },
    {
      "cell_type": "code",
      "source": [
        "service.wait_for_deployment(show_output=True)"
      ],
      "outputs": [
        {
          "output_type": "stream",
          "name": "stdout",
          "text": "Tips: You can try get_logs(): https://aka.ms/debugimage#dockerlog or local deployment: https://aka.ms/debugimage#debug-locally to debug if deployment takes longer than 10 minutes.\nRunning\n2023-02-04 08:59:45+00:00 Creating Container Registry if not exists.\n2023-02-04 08:59:45+00:00 Registering the environment.\n2023-02-04 08:59:45+00:00 Use the existing image.\n2023-02-04 08:59:46+00:00 Submitting deployment to compute.\n2023-02-04 08:59:49+00:00 Checking the status of deployment predict-heartdisease-webservice..\n2023-02-04 09:02:02+00:00 Checking the status of inference endpoint predict-heartdisease-webservice.\nSucceeded\nACI service creation operation finished, operation \"Succeeded\"\n"
        }
      ],
      "execution_count": 32,
      "metadata": {
        "jupyter": {
          "source_hidden": false,
          "outputs_hidden": false
        },
        "nteract": {
          "transient": {
            "deleting": false
          }
        },
        "gather": {
          "logged": 1675501345515
        }
      }
    },
    {
      "cell_type": "code",
      "source": [
        "# Check deployment status\r\n",
        "service.wait_for_deployment(show_output=True)\r\n",
        "\r\n",
        "print(\"Service State: \",service.state)\r\n",
        "print(\"Scoring URI: \",service.scoring_uri)\r\n",
        "print(\"Swagger URI: \",service.swagger_uri)"
      ],
      "outputs": [
        {
          "output_type": "stream",
          "name": "stdout",
          "text": "Tips: You can try get_logs(): https://aka.ms/debugimage#dockerlog or local deployment: https://aka.ms/debugimage#debug-locally to debug if deployment takes longer than 10 minutes.\nSucceededACI service creation operation finished, operation \"Succeeded\"\nService State:  Healthy\nScoring URI:  http://170ce55f-ced7-4b17-ac74-35a705c22b91.centralus.azurecontainer.io/score\nSwagger URI:  http://170ce55f-ced7-4b17-ac74-35a705c22b91.centralus.azurecontainer.io/swagger.json\n"
        }
      ],
      "execution_count": 33,
      "metadata": {
        "jupyter": {
          "source_hidden": false,
          "outputs_hidden": false
        },
        "nteract": {
          "transient": {
            "deleting": false
          }
        },
        "gather": {
          "logged": 1675501504799
        }
      }
    },
    {
      "cell_type": "code",
      "source": [
        "#Import test data\n",
        "import json\n",
        "import requests\n",
        "\n",
        "test_df = df.sample(3) # sample data from original dataset\n",
        "label_df = test_df.pop('HeartDisease')\n",
        "\n",
        "test_data = json.dumps({'data': test_df.to_dict(orient='records')})\n",
        "\n",
        "print(test_data)"
      ],
      "outputs": [
        {
          "output_type": "stream",
          "name": "stdout",
          "text": "{\"data\": [{\"Age\": 55, \"Sex\": \"F\", \"ChestPainType\": \"ATA\", \"RestingBP\": 122, \"Cholesterol\": 320, \"FastingBS\": 0, \"RestingECG\": \"Normal\", \"MaxHR\": 155, \"ExerciseAngina\": false, \"Oldpeak\": 0.0, \"ST_Slope\": \"Up\"}, {\"Age\": 57, \"Sex\": \"M\", \"ChestPainType\": \"ATA\", \"RestingBP\": 180, \"Cholesterol\": 285, \"FastingBS\": 1, \"RestingECG\": \"ST\", \"MaxHR\": 120, \"ExerciseAngina\": false, \"Oldpeak\": 0.8, \"ST_Slope\": \"Flat\"}, {\"Age\": 54, \"Sex\": \"M\", \"ChestPainType\": \"ATA\", \"RestingBP\": 108, \"Cholesterol\": 309, \"FastingBS\": 0, \"RestingECG\": \"Normal\", \"MaxHR\": 156, \"ExerciseAngina\": false, \"Oldpeak\": 0.0, \"ST_Slope\": \"Up\"}]}\n"
        }
      ],
      "execution_count": 55,
      "metadata": {
        "jupyter": {
          "source_hidden": false,
          "outputs_hidden": false
        },
        "nteract": {
          "transient": {
            "deleting": false
          }
        },
        "gather": {
          "logged": 1675502966598
        }
      }
    },
    {
      "cell_type": "code",
      "source": [
        "scoring_uri = service.scoring_uri\n",
        "input_data = test_data\n",
        "\n",
        "# Set the content type\n",
        "headers = {'Content-Type': 'application/json'}\n",
        "\n",
        "# Make the request and display the response\n",
        "resp = requests.post(scoring_uri, input_data, headers=headers)\n",
        "print(resp.text)"
      ],
      "outputs": [
        {
          "output_type": "stream",
          "name": "stdout",
          "text": "\"{\\\"result\\\": [0, 1, 0]}\"\n"
        }
      ],
      "execution_count": 56,
      "metadata": {
        "jupyter": {
          "source_hidden": false,
          "outputs_hidden": false
        },
        "nteract": {
          "transient": {
            "deleting": false
          }
        },
        "gather": {
          "logged": 1675502969495
        }
      }
    },
    {
      "cell_type": "markdown",
      "source": [
        "TODO: In the cell below, print the logs of the web service and delete the service"
      ],
      "metadata": {
        "collapsed": true,
        "gather": {
          "logged": 1598432765711
        },
        "jupyter": {
          "outputs_hidden": false,
          "source_hidden": false
        },
        "nteract": {
          "transient": {
            "deleting": false
          }
        }
      }
    },
    {
      "cell_type": "code",
      "source": [
        "print(service.get_logs())"
      ],
      "outputs": [
        {
          "output_type": "stream",
          "name": "stdout",
          "text": "2023-02-04T09:01:56,270125100+00:00 - rsyslog/run \n2023-02-04T09:01:56,274786400+00:00 - iot-server/run \n2023-02-04T09:01:56,285655500+00:00 - gunicorn/run \n2023-02-04T09:01:56,291365800+00:00 | gunicorn/run | \n2023-02-04T09:01:56,294510700+00:00 | gunicorn/run | ###############################################\n2023-02-04T09:01:56,299448400+00:00 - nginx/run \n2023-02-04T09:01:56,303648800+00:00 | gunicorn/run | AzureML Container Runtime Information\n2023-02-04T09:01:56,307524400+00:00 | gunicorn/run | ###############################################\n2023-02-04T09:01:56,313742100+00:00 | gunicorn/run | \n2023-02-04T09:01:56,319199200+00:00 | gunicorn/run | \n2023-02-04T09:01:56,333407500+00:00 | gunicorn/run | AzureML image information: openmpi3.1.2-ubuntu18.04, Materializaton Build:20230103.v4\n2023-02-04T09:01:56,336333500+00:00 | gunicorn/run | \n2023-02-04T09:01:56,339401100+00:00 | gunicorn/run | \n2023-02-04T09:01:56,343121300+00:00 | gunicorn/run | PATH environment variable: /azureml-envs/azureml_cc96bffb210e59c36dafe3fe23d9a95e/bin:/opt/miniconda/bin:/usr/local/sbin:/usr/local/bin:/usr/sbin:/usr/bin:/sbin:/bin\n2023-02-04T09:01:56,348283800+00:00 | gunicorn/run | PYTHONPATH environment variable: \n2023-02-04T09:01:56,350901300+00:00 | gunicorn/run | \n2023-02-04T09:01:56,354741800+00:00 | gunicorn/run | Pip Dependencies (before dynamic installation)\n\nEdgeHubConnectionString and IOTEDGE_IOTHUBHOSTNAME are not set. Exiting...\n2023-02-04T09:01:56,665540200+00:00 - iot-server/finish 1 0\n2023-02-04T09:01:56,668053300+00:00 - Exit code 1 is normal. Not restarting iot-server.\nadal==1.2.7\napplicationinsights==0.11.10\nargcomplete==2.0.0\narviz @ file:///home/conda/feedstock_root/build_artifacts/arviz_1666645025910/work\nattrs==22.2.0\nazure-common==1.1.28\nazure-core==1.26.2\nazure-graphrbac==0.61.1\nazure-identity==1.12.0\nazure-mgmt-authorization==3.0.0\nazure-mgmt-containerregistry==10.0.0\nazure-mgmt-core==1.3.2\nazure-mgmt-keyvault==10.1.0\nazure-mgmt-resource==21.2.1\nazure-mgmt-storage==20.1.0\nazure-storage-blob==12.13.0\nazure-storage-queue==12.5.0\nazureml-automl-core==1.48.0\nazureml-automl-runtime==1.48.0.post1\nazureml-core==1.48.0\nazureml-dataprep==4.8.3\nazureml-dataprep-native==38.0.0\nazureml-dataprep-rslex==2.15.1\nazureml-dataset-runtime==1.48.0\nazureml-defaults==1.48.0\nazureml-inference-server-http==0.7.7\nazureml-interpret==1.48.0\nazureml-mlflow==1.48.0\nazureml-pipeline-core==1.48.0\nazureml-responsibleai==1.48.0\nazureml-telemetry==1.48.0\nazureml-train-automl-client==1.48.0\nazureml-train-automl-runtime==1.48.0.post1\nazureml-train-core==1.48.0\nazureml-train-restclients-hyperdrive==1.48.0\nazureml-training-tabular==1.48.0\nbackcall==0.2.0\nbackports.tempfile==1.0\nbackports.weakref==1.0.post1\nbcrypt==4.0.1\nbokeh==2.4.3\nboto==2.49.0\nboto3 @ file:///home/conda/feedstock_root/build_artifacts/boto3_1602889982367/work\nbotocore @ file:///home/conda/feedstock_root/build_artifacts/botocore_1602884371056/work\nbrotlipy @ file:///home/conda/feedstock_root/build_artifacts/brotlipy_1648854164153/work\ncachetools==5.2.1\ncertifi==2022.12.7\ncffi @ file:///home/conda/feedstock_root/build_artifacts/cffi_1625835301720/work\ncftime @ file:///home/conda/feedstock_root/build_artifacts/cftime_1663606412550/work\ncharset-normalizer==3.0.1\nclick @ file:///home/conda/feedstock_root/build_artifacts/click_1645238117885/work\ncloudpickle @ file:///home/conda/feedstock_root/build_artifacts/cloudpickle_1598400192773/work\ncolorama @ file:///home/conda/feedstock_root/build_artifacts/colorama_1666700638685/work\ncontextlib2==21.6.0\nconvertdate @ file:///home/conda/feedstock_root/build_artifacts/convertdate_1642883757836/work\ncryptography @ file:///home/conda/feedstock_root/build_artifacts/cryptography_1666563349571/work\ncycler @ file:///home/conda/feedstock_root/build_artifacts/cycler_1635519461629/work\nCython==0.29.17\ndask==2021.6.0\ndatabricks-cli==0.17.4\ndataclasses==0.6\ndebugpy==1.6.5\ndecorator==5.1.1\ndice-ml==0.9\ndill==0.3.6\ndistributed==2021.6.0\ndistro==1.8.0\ndocker==6.0.1\ndotnetcore2==3.1.23\neconml==0.14.0\nentrypoints==0.4\nephem @ file:///home/conda/feedstock_root/build_artifacts/ephem_1649637195901/work\nerroranalysis==0.3.13\nfairlearn==0.7.0\nfbprophet @ file:///home/conda/feedstock_root/build_artifacts/fbprophet_1599365534439/work\nfire==0.5.0\nFlask==2.2.2\nFlask-Cors==3.0.10\nflatbuffers==23.1.4\nfonttools @ file:///home/conda/feedstock_root/build_artifacts/fonttools_1666389892786/work\nfsspec==2022.11.0\ngensim==3.8.3\ngitdb==4.0.10\nGitPython==3.1.30\ngoogle-api-core==2.11.0\ngoogle-auth==2.16.0\ngoogleapis-common-protos==1.58.0\ngunicorn==20.1.0\nh5py==3.7.0\nHeapDict==1.0.1\nholidays @ file:///home/conda/feedstock_root/build_artifacts/holidays_1595448845196/work\nhumanfriendly==10.0\nidna @ file:///home/conda/feedstock_root/build_artifacts/idna_1663625384323/work\nimportlib-metadata @ file:///home/conda/feedstock_root/build_artifacts/importlib-metadata_1653252814274/work\nimportlib-resources==5.10.2\ninference-schema==1.5.1\ninterpret-community==0.27.0\ninterpret-core==0.2.7\nipykernel==6.6.0\nipython==7.34.0\nisodate==0.6.1\nitsdangerous==2.1.2\njedi==0.18.2\njeepney==0.8.0\nJinja2==3.1.2\njmespath @ file:///home/conda/feedstock_root/build_artifacts/jmespath_1589369830981/work\njoblib @ file:///home/conda/feedstock_root/build_artifacts/joblib_1589548394565/work\njsonpickle==2.2.0\njsonschema==4.17.3\njupyter-client==7.4.9\njupyter-core==4.12.0\nkeras2onnx==1.6.0\nkiwisolver @ file:///home/conda/feedstock_root/build_artifacts/kiwisolver_1657953088445/work\nknack==0.10.1\nkorean-lunar-calendar @ file:///home/conda/feedstock_root/build_artifacts/korean_lunar_calendar_1663341251025/work\nlightgbm==3.2.1\nllvmlite==0.38.1\nlocket==1.0.0\nLunarCalendar==0.0.9\nMarkupSafe==2.0.1\nmatplotlib @ file:///home/conda/feedstock_root/build_artifacts/matplotlib-suite_1661439848456/work\nmatplotlib-inline==0.1.6\nml-wrappers==0.2.2\nmlflow-skinny==1.30.0\nmpi4py==3.1.3\nmsal==1.20.0\nmsal-extensions==1.0.0\nmsgpack==1.0.4\nmsrest==0.7.1\nmsrestazure==0.6.4\nmunkres==1.1.4\nndg-httpsclient==0.5.1\nnest-asyncio==1.5.6\nnetCDF4 @ file:///home/conda/feedstock_root/build_artifacts/netcdf4_1663234155476/work\nnetworkx==2.5\nnimbusml==1.8.0\nnumba==0.55.2\nnumpy @ file:///home/conda/feedstock_root/build_artifacts/numpy_1649806299270/work\noauthlib==3.2.2\nonnx==1.12.0\nonnxconverter-common==1.6.0\nonnxmltools==1.4.1\nonnxruntime==1.11.1\nopencensus==0.11.0\nopencensus-context==0.1.3\nopencensus-ext-azure==1.1.7\npackaging==21.3\npandas==1.1.5\nparamiko==2.12.0\nparso==0.8.3\npartd==1.3.0\npathspec==0.10.3\npatsy==0.5.3\npexpect==4.8.0\npickleshare==0.7.5\nPillow @ file:///home/conda/feedstock_root/build_artifacts/pillow_1660385854171/work\npkginfo==1.9.6\npkgutil-resolve-name==1.3.10\npmdarima==1.7.1\nportalocker==2.6.0\nprompt-toolkit==3.0.36\nprotobuf==3.20.1\npsutil @ file:///home/conda/feedstock_root/build_artifacts/psutil_1666155398032/work\nptyprocess==0.7.0\npy-cpuinfo==5.0.0\npyarrow==9.0.0\npyasn1==0.4.8\npyasn1-modules==0.2.8\npycparser @ file:///home/conda/feedstock_root/build_artifacts/pycparser_1636257122734/work\nPygments==2.14.0\nPyJWT==2.6.0\nPyMeeus @ file:///home/conda/feedstock_root/build_artifacts/pymeeus_1670868433998/work\nPyNaCl==1.5.0\npyOpenSSL==22.1.0\npyparsing @ file:///home/conda/feedstock_root/build_artifacts/pyparsing_1652235407899/work\npyrsistent==0.19.3\nPySocks @ file:///home/conda/feedstock_root/build_artifacts/pysocks_1648857264451/work\npystan @ file:///home/conda/feedstock_root/build_artifacts/pystan_1598392733373/work\npython-dateutil @ file:///home/conda/feedstock_root/build_artifacts/python-dateutil_1626286286081/work\npytz @ file:///home/conda/feedstock_root/build_artifacts/pytz_1671365381334/work\nPyYAML==6.0\npyzmq==25.0.0\nraiutils==0.3.0\nrequests==2.28.2\nrequests-oauthlib==1.3.1\nresponsibleai==0.23.0\nrsa==4.9\ns3transfer @ file:///home/conda/feedstock_root/build_artifacts/s3transfer_1618355402893/work\nscikit-learn==0.22.1\nscipy==1.5.3\nSecretStorage==3.3.3\nsemver==2.13.0\nsetuptools-git==1.2\nshap==0.39.0\nsix @ file:///home/conda/feedstock_root/build_artifacts/six_1620240208055/work\nskl2onnx==1.4.9\nsklearn-pandas==1.7.0\nslicer==0.0.7\nsmart-open==1.9.0\nsmmap==5.0.0\nsortedcontainers==2.4.0\nsparse==0.13.0\nsqlparse==0.4.3\nstatsmodels==0.11.1\ntabulate==0.9.0\ntblib==1.7.0\ntermcolor==2.2.0\ntoolz==0.12.0\ntornado==6.2\ntqdm @ file:///home/conda/feedstock_root/build_artifacts/tqdm_1662214488106/work\ntraitlets==5.8.1\ntyping-extensions @ file:///home/conda/feedstock_root/build_artifacts/typing_extensions_1665144421445/work\nunicodedata2 @ file:///home/conda/feedstock_root/build_artifacts/unicodedata2_1649111917568/work\nurllib3 @ file:///home/conda/feedstock_root/build_artifacts/urllib3_1603125704209/work\nwcwidth==0.2.5\nwebsocket-client==1.4.2\nWerkzeug==2.2.2\nwrapt==1.12.1\nxarray @ file:///home/conda/feedstock_root/build_artifacts/xarray_1639125986756/work\nxarray-einstats @ file:///home/conda/feedstock_root/build_artifacts/xarray-einstats_1648967091347/work\nxgboost==1.3.3\nzict==2.2.0\nzipp @ file:///home/conda/feedstock_root/build_artifacts/zipp_1669453021653/work\n\n2023-02-04T09:01:57,819158500+00:00 | gunicorn/run | \n2023-02-04T09:01:57,822290700+00:00 | gunicorn/run | ###############################################\n2023-02-04T09:01:57,825115600+00:00 | gunicorn/run | AzureML Inference Server\n2023-02-04T09:01:57,826423500+00:00 | gunicorn/run | ###############################################\n2023-02-04T09:01:57,827707100+00:00 | gunicorn/run | \n2023-02-04T09:02:00,494717616+00:00 | gunicorn/run | Starting AzureML Inference Server HTTP.\n\nAzure ML Inferencing HTTP server v0.7.7\n\n\nServer Settings\n---------------\nEntry Script Name: /var/azureml-app/main.py\nModel Directory: /var/azureml-app/azureml-models/autoML_model/2\nWorker Count: 1\nWorker Timeout (seconds): 300\nServer Port: 31311\nApplication Insights Enabled: false\nApplication Insights Key: None\nInferencing HTTP server version: azmlinfsrv/0.7.7\nCORS for the specified origins: None\n\n\nServer Routes\n---------------\nLiveness Probe: GET   127.0.0.1:31311/\nScore:          POST  127.0.0.1:31311/score\n\nStarting gunicorn 20.1.0\nListening at: http://0.0.0.0:31311 (79)\nUsing worker: sync\nBooting worker with pid: 143\nInitializing logger\n2023-02-04 09:02:01,640 | root | INFO | Starting up app insights client\nlogging socket was found. logging is available.\nlogging socket was found. logging is available.\n2023-02-04 09:02:01,641 | root | INFO | Starting up app insight hooks\n2023-02-04 09:02:02,548 | root | INFO | Found driver script at /var/azureml-app/main.py and the score script at /var/azureml-app/score.py\n2023-02-04 09:02:02,548 | root | INFO | run() is decorated with @input_schema. Server will invoke it with the following arguments: data, method.\n2023-02-04 09:02:02,548 | root | INFO | Invoking user's init function\ngenerated new fontManager\nImporting plotly failed. Interactive plots will not work.\n2023-02-04 09:02:11,264 | azureml.core | WARNING | Failure while loading azureml_run_type_providers. Failed to load entrypoint azureml.scriptrun = azureml.core.script_run:ScriptRun._from_run_dto with exception (urllib3 1.25.11 (/azureml-envs/azureml_cc96bffb210e59c36dafe3fe23d9a95e/lib/python3.7/site-packages), Requirement.parse('urllib3>=1.26.0'), {'docker'}).\nFailure while loading azureml_run_type_providers. Failed to load entrypoint azureml.scriptrun = azureml.core.script_run:ScriptRun._from_run_dto with exception (urllib3 1.25.11 (/azureml-envs/azureml_cc96bffb210e59c36dafe3fe23d9a95e/lib/python3.7/site-packages), Requirement.parse('urllib3>=1.26.0'), {'docker'}).\n2023-02-04 09:02:11,283 | azureml.core | WARNING | Failure while loading azureml_run_type_providers. Failed to load entrypoint azureml.PipelineRun = azureml.pipeline.core.run:PipelineRun._from_dto with exception (urllib3 1.25.11 (/azureml-envs/azureml_cc96bffb210e59c36dafe3fe23d9a95e/lib/python3.7/site-packages), Requirement.parse('urllib3>=1.26.0'), {'docker'}).\nFailure while loading azureml_run_type_providers. Failed to load entrypoint azureml.PipelineRun = azureml.pipeline.core.run:PipelineRun._from_dto with exception (urllib3 1.25.11 (/azureml-envs/azureml_cc96bffb210e59c36dafe3fe23d9a95e/lib/python3.7/site-packages), Requirement.parse('urllib3>=1.26.0'), {'docker'}).\n2023-02-04 09:02:11,297 | azureml.core | WARNING | Failure while loading azureml_run_type_providers. Failed to load entrypoint azureml.ReusedStepRun = azureml.pipeline.core.run:StepRun._from_reused_dto with exception (urllib3 1.25.11 (/azureml-envs/azureml_cc96bffb210e59c36dafe3fe23d9a95e/lib/python3.7/site-packages), Requirement.parse('urllib3>=1.26.0'), {'docker'}).\nFailure while loading azureml_run_type_providers. Failed to load entrypoint azureml.ReusedStepRun = azureml.pipeline.core.run:StepRun._from_reused_dto with exception (urllib3 1.25.11 (/azureml-envs/azureml_cc96bffb210e59c36dafe3fe23d9a95e/lib/python3.7/site-packages), Requirement.parse('urllib3>=1.26.0'), {'docker'}).\n2023-02-04 09:02:11,315 | azureml.core | WARNING | Failure while loading azureml_run_type_providers. Failed to load entrypoint azureml.StepRun = azureml.pipeline.core.run:StepRun._from_dto with exception (urllib3 1.25.11 (/azureml-envs/azureml_cc96bffb210e59c36dafe3fe23d9a95e/lib/python3.7/site-packages), Requirement.parse('urllib3>=1.26.0'), {'docker'}).\nFailure while loading azureml_run_type_providers. Failed to load entrypoint azureml.StepRun = azureml.pipeline.core.run:StepRun._from_dto with exception (urllib3 1.25.11 (/azureml-envs/azureml_cc96bffb210e59c36dafe3fe23d9a95e/lib/python3.7/site-packages), Requirement.parse('urllib3>=1.26.0'), {'docker'}).\n2023-02-04 09:02:11,386 | azureml.core | WARNING | Failure while loading azureml_run_type_providers. Failed to load entrypoint automl = azureml.train.automl.run:AutoMLRun._from_run_dto with exception (azure-identity 1.12.0 (/azureml-envs/azureml_cc96bffb210e59c36dafe3fe23d9a95e/lib/python3.7/site-packages), Requirement.parse('azure-identity==1.7.0'), {'azureml-dataprep'}).\nFailure while loading azureml_run_type_providers. Failed to load entrypoint automl = azureml.train.automl.run:AutoMLRun._from_run_dto with exception (azure-identity 1.12.0 (/azureml-envs/azureml_cc96bffb210e59c36dafe3fe23d9a95e/lib/python3.7/site-packages), Requirement.parse('azure-identity==1.7.0'), {'azureml-dataprep'}).\n2023-02-04 09:02:11,404 | azureml.core | WARNING | Failure while loading azureml_run_type_providers. Failed to load entrypoint hyperdrive = azureml.train.hyperdrive:HyperDriveRun._from_run_dto with exception (urllib3 1.25.11 (/azureml-envs/azureml_cc96bffb210e59c36dafe3fe23d9a95e/lib/python3.7/site-packages), Requirement.parse('urllib3>=1.26.0'), {'docker'}).\nFailure while loading azureml_run_type_providers. Failed to load entrypoint hyperdrive = azureml.train.hyperdrive:HyperDriveRun._from_run_dto with exception (urllib3 1.25.11 (/azureml-envs/azureml_cc96bffb210e59c36dafe3fe23d9a95e/lib/python3.7/site-packages), Requirement.parse('urllib3>=1.26.0'), {'docker'}).\n2023-02-04 09:02:12,725 | root | INFO | Users's init has completed successfully\n2023-02-04 09:02:12,727 | root | INFO | Swaggers are prepared for the following versions: [2, 3].\n2023-02-04 09:02:12,727 | root | INFO | Scoring timeout is found from os.environ: 60000 ms\n2023-02-04 09:02:12,727 | root | INFO | AML_FLASK_ONE_COMPATIBILITY is set. Patched Flask to ensure compatibility with Flask 1.\n2023-02-04 09:02:23,006 | root | INFO | 200\n127.0.0.1 - - [04/Feb/2023:09:02:23 +0000] \"GET /swagger.json HTTP/1.0\" 200 3416 \"-\" \"Go-http-client/1.1\"\n2023-02-04 09:02:25,285 | root | INFO | 200\n127.0.0.1 - - [04/Feb/2023:09:02:25 +0000] \"GET /swagger.json HTTP/1.0\" 200 3416 \"-\" \"Go-http-client/1.1\"\n2023-02-04 09:05:04,534 | root | INFO | 200\n127.0.0.1 - - [04/Feb/2023:09:05:04 +0000] \"GET /swagger.json HTTP/1.0\" 200 3416 \"-\" \"Go-http-client/1.1\"\n2023-02-04 09:27:01,074 | root | INFO | 200\n127.0.0.1 - - [04/Feb/2023:09:27:01 +0000] \"POST /score HTTP/1.0\" 200 25 \"-\" \"python-requests/2.28.1\"\n\n"
        }
      ],
      "execution_count": 54,
      "metadata": {
        "jupyter": {
          "outputs_hidden": false,
          "source_hidden": false
        },
        "nteract": {
          "transient": {
            "deleting": false
          }
        },
        "gather": {
          "logged": 1675502847081
        }
      }
    },
    {
      "cell_type": "code",
      "source": [
        "service.delete()"
      ],
      "outputs": [],
      "execution_count": null,
      "metadata": {
        "jupyter": {
          "source_hidden": false,
          "outputs_hidden": false
        },
        "nteract": {
          "transient": {
            "deleting": false
          }
        }
      }
    },
    {
      "cell_type": "code",
      "source": [
        "compute_target.delete()"
      ],
      "outputs": [],
      "execution_count": null,
      "metadata": {
        "jupyter": {
          "source_hidden": false,
          "outputs_hidden": false
        },
        "nteract": {
          "transient": {
            "deleting": false
          }
        }
      }
    },
    {
      "cell_type": "markdown",
      "source": [
        "**Submission Checklist**\n",
        "- I have registered the model.\n",
        "- I have deployed the model with the best accuracy as a webservice.\n",
        "- I have tested the webservice by sending a request to the model endpoint.\n",
        "- I have deleted the webservice and shutdown all the computes that I have used.\n",
        "- I have taken a screenshot showing the model endpoint as active.\n",
        "- The project includes a file containing the environment details.\n"
      ],
      "metadata": {}
    },
    {
      "cell_type": "markdown",
      "source": [],
      "metadata": {}
    }
  ],
  "metadata": {
    "kernel_info": {
      "name": "python38-azureml"
    },
    "kernelspec": {
      "name": "python38-azureml",
      "language": "python",
      "display_name": "Python 3.8 - AzureML"
    },
    "language_info": {
      "name": "python",
      "version": "3.8.5",
      "mimetype": "text/x-python",
      "codemirror_mode": {
        "name": "ipython",
        "version": 3
      },
      "pygments_lexer": "ipython3",
      "nbconvert_exporter": "python",
      "file_extension": ".py"
    },
    "nteract": {
      "version": "nteract-front-end@1.0.0"
    },
    "microsoft": {
      "host": {
        "AzureML": {
          "notebookHasBeenCompleted": true
        }
      }
    
  },
  "nbformat": 4,
  "nbformat_minor": 2
}
